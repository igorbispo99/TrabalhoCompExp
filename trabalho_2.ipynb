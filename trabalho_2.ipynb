{
 "cells": [
  {
   "cell_type": "code",
   "execution_count": 70,
   "metadata": {},
   "outputs": [],
   "source": [
    "import pandas as pd\n",
    "import seaborn as sbs\n",
    "import matplotlib.pyplot as plt\n",
    "import numpy as np\n",
    "\n",
    "from sklearn.model_selection import train_test_split, cross_validate\n",
    "from sklearn.ensemble import RandomForestClassifier, RandomForestRegressor\n",
    "from sklearn.naive_bayes import GaussianNB \n",
    "from sklearn.linear_model import ElasticNet\n",
    "\n",
    "from sklearn.metrics import classification_report, plot_confusion_matrix, explained_variance_score,\\\n",
    "                            r2_score, mean_absolute_error, accuracy_score, f1_score\n",
    "\n",
    "from keras.models import Model, Sequential\n",
    "from keras.layers import LSTM, Dense, LayerNormalization"
   ]
  },
  {
   "cell_type": "code",
   "execution_count": 6,
   "metadata": {},
   "outputs": [],
   "source": [
    "def generate_np_data(data, col_x, col_y, look_back, predict_forward, N, categorize = False, zero_missing=True):\n",
    "    X = []\n",
    "    Y = []\n",
    "    \n",
    "    unique_location = data.wsnm.unique()\n",
    "    \n",
    "    dataframe_X = data[['wsnm'] + col_x]\n",
    "    dataframe_Y = data[['wsnm'] + col_y]\n",
    "    \n",
    "    n_samples = 0\n",
    "    last = -1\n",
    "    \n",
    "    for loc in unique_location:\n",
    "        data_x = np.array(dataframe_X[dataframe_X.wsnm == loc].drop(columns=['wsnm']))\n",
    "        data_y = np.array(dataframe_Y[dataframe_Y.wsnm == loc].drop(columns=['wsnm']))\n",
    "        \n",
    "        for i in range(len(data_x) - look_back - predict_forward):\n",
    "            x_ = data_x[i:i+look_back]\n",
    "            y_ = data_y[i+look_back - 1 + predict_forward]\n",
    "\n",
    "            if not np.isnan(x_).any() and (not np.isnan(y_).any() or zero_missing):\n",
    "                X.append(x_)\n",
    "                n_samples += 1\n",
    "\n",
    "                if zero_missing:\n",
    "                    if np.isnan(y_).any():\n",
    "                        Y.append(0)\n",
    "                    elif categorize:\n",
    "                        Y.append(1 if y_ > 0 else 0)\n",
    "                    else:\n",
    "                        Y.append(y_)\n",
    "                else:\n",
    "                    if categorize:\n",
    "                        Y.append(1 if y_ > 0 else 0)\n",
    "                    else:\n",
    "                        Y.append(y_)\n",
    "                        \n",
    "            if n_samples % 5000 == 0 and n_samples != last:\n",
    "                print(n_samples)\n",
    "                last = n_samples\n",
    "            if n_samples > N:\n",
    "                 return np.array(X), np.array(Y)\n",
    " \n",
    "    return np.array(X), np.array(Y)"
   ]
  },
  {
   "cell_type": "code",
   "execution_count": 7,
   "metadata": {},
   "outputs": [],
   "source": [
    "def get_model_lstm(n_steps, n_features):\n",
    "    model = Sequential()\n",
    "    \n",
    "    model.add(LSTM(256, input_shape=(n_steps, n_features)))\n",
    "\n",
    "    model.add(Dense(1, activation = 'sigmoid'))\n",
    "    \n",
    "    model.compile(optimizer='rmsprop', loss='binary_crossentropy', metrics =['acc'])\n",
    "    \n",
    "    return model"
   ]
  },
  {
   "cell_type": "code",
   "execution_count": 76,
   "metadata": {},
   "outputs": [],
   "source": [
    "def get_model_lstm_regression(n_steps, n_features, n_output):\n",
    "    model = Sequential()\n",
    "    \n",
    "    model.add(LSTM(256, input_shape=(n_steps, n_features)))\n",
    "    \n",
    "    model.add(Dense(n_output, activation = 'relu'))\n",
    "    \n",
    "    model.compile(optimizer='rmsprop', loss='mse', metrics =['mse', 'mae'])\n",
    "    \n",
    "    return model"
   ]
  },
  {
   "cell_type": "code",
   "execution_count": 102,
   "metadata": {},
   "outputs": [],
   "source": [
    "def cross_validate_lstm(X, Y, look_back, cv=10, reg=False):\n",
    "    train_size = 1 - 1/cv\n",
    "    results = []\n",
    "    \n",
    "    for _ in range(cv):\n",
    "        X_train, X_test, y_train, y_test = train_test_split(X, Y, test_size = 1/cv)\n",
    "        \n",
    "        if reg:\n",
    "            model = get_model_lstm_regression(look_back, X_train.shape[2], len(y_train.shape))\n",
    "        else:\n",
    "            model = get_model_lstm(look_back, X_train.shape[2])\n",
    "        \n",
    "        model.fit(X_train, y_train, validation_data = (X_test, y_test), batch_size=64, epochs=5)   \n",
    "        \n",
    "        if reg:\n",
    "            y_pred = model.predict(X_test)\n",
    "            r2 = r2_score(y_test, y_pred)\n",
    "            mae = mean_absolute_error(y_test, y_pred)\n",
    "        \n",
    "            results.append([r2, mae])     \n",
    "        else:\n",
    "            y_pred = model.predict(X_test) > 0.5\n",
    "            f1 = f1_score(y_test, y_pred)\n",
    "            acc = accuracy_score(y_test, y_pred)\n",
    "        \n",
    "            results.append([f1, acc])\n",
    "    return results"
   ]
  },
  {
   "cell_type": "code",
   "execution_count": 95,
   "metadata": {},
   "outputs": [],
   "source": [
    "def remove_min_max(array):\n",
    "    return array[np.logical_and((array > array.min()), (array < array.max()))]"
   ]
  },
  {
   "cell_type": "markdown",
   "metadata": {},
   "source": [
    "---"
   ]
  },
  {
   "cell_type": "markdown",
   "metadata": {},
   "source": [
    "# Loading Data|"
   ]
  },
  {
   "cell_type": "code",
   "execution_count": 9,
   "metadata": {},
   "outputs": [],
   "source": [
    "# https://www.kaggle.com/PROPPG-PPG/hourly-weather-surface-brazil-southeast-region\n",
    "data = pd.read_csv(\"sudeste.csv\")"
   ]
  },
  {
   "cell_type": "code",
   "execution_count": 10,
   "metadata": {},
   "outputs": [
    {
     "data": {
      "text/html": [
       "<div>\n",
       "<style scoped>\n",
       "    .dataframe tbody tr th:only-of-type {\n",
       "        vertical-align: middle;\n",
       "    }\n",
       "\n",
       "    .dataframe tbody tr th {\n",
       "        vertical-align: top;\n",
       "    }\n",
       "\n",
       "    .dataframe thead th {\n",
       "        text-align: right;\n",
       "    }\n",
       "</style>\n",
       "<table border=\"1\" class=\"dataframe\">\n",
       "  <thead>\n",
       "    <tr style=\"text-align: right;\">\n",
       "      <th></th>\n",
       "      <th>wsid</th>\n",
       "      <th>elvt</th>\n",
       "      <th>lat</th>\n",
       "      <th>lon</th>\n",
       "      <th>yr</th>\n",
       "      <th>mo</th>\n",
       "      <th>da</th>\n",
       "      <th>hr</th>\n",
       "      <th>prcp</th>\n",
       "      <th>stp</th>\n",
       "      <th>...</th>\n",
       "      <th>tmax</th>\n",
       "      <th>dmax</th>\n",
       "      <th>tmin</th>\n",
       "      <th>dmin</th>\n",
       "      <th>hmdy</th>\n",
       "      <th>hmax</th>\n",
       "      <th>hmin</th>\n",
       "      <th>wdsp</th>\n",
       "      <th>wdct</th>\n",
       "      <th>gust</th>\n",
       "    </tr>\n",
       "  </thead>\n",
       "  <tbody>\n",
       "    <tr>\n",
       "      <th>count</th>\n",
       "      <td>9.779168e+06</td>\n",
       "      <td>9.779168e+06</td>\n",
       "      <td>9.779168e+06</td>\n",
       "      <td>9.779168e+06</td>\n",
       "      <td>9.779168e+06</td>\n",
       "      <td>9.779168e+06</td>\n",
       "      <td>9.779168e+06</td>\n",
       "      <td>9.779168e+06</td>\n",
       "      <td>1.407984e+06</td>\n",
       "      <td>9.779168e+06</td>\n",
       "      <td>...</td>\n",
       "      <td>9.779142e+06</td>\n",
       "      <td>9.778858e+06</td>\n",
       "      <td>9.779134e+06</td>\n",
       "      <td>9.778361e+06</td>\n",
       "      <td>9.779168e+06</td>\n",
       "      <td>9.779156e+06</td>\n",
       "      <td>9.779124e+06</td>\n",
       "      <td>8.853607e+06</td>\n",
       "      <td>9.779168e+06</td>\n",
       "      <td>9.462694e+06</td>\n",
       "    </tr>\n",
       "    <tr>\n",
       "      <th>mean</th>\n",
       "      <td>3.592531e+02</td>\n",
       "      <td>5.940923e+02</td>\n",
       "      <td>-2.023082e+01</td>\n",
       "      <td>-4.464590e+01</td>\n",
       "      <td>2.011164e+03</td>\n",
       "      <td>6.521960e+00</td>\n",
       "      <td>1.575465e+01</td>\n",
       "      <td>1.150000e+01</td>\n",
       "      <td>9.366544e-01</td>\n",
       "      <td>8.804292e+02</td>\n",
       "      <td>...</td>\n",
       "      <td>2.110503e+01</td>\n",
       "      <td>1.524025e+01</td>\n",
       "      <td>1.986418e+01</td>\n",
       "      <td>1.422089e+01</td>\n",
       "      <td>6.726667e+01</td>\n",
       "      <td>6.996991e+01</td>\n",
       "      <td>6.441965e+01</td>\n",
       "      <td>1.998156e+00</td>\n",
       "      <td>1.385991e+02</td>\n",
       "      <td>4.494015e+00</td>\n",
       "    </tr>\n",
       "    <tr>\n",
       "      <th>std</th>\n",
       "      <td>3.901630e+01</td>\n",
       "      <td>3.980379e+02</td>\n",
       "      <td>3.172643e+00</td>\n",
       "      <td>4.882117e+00</td>\n",
       "      <td>3.207774e+00</td>\n",
       "      <td>3.425538e+00</td>\n",
       "      <td>8.802154e+00</td>\n",
       "      <td>6.922190e+00</td>\n",
       "      <td>2.923291e+00</td>\n",
       "      <td>2.482650e+02</td>\n",
       "      <td>...</td>\n",
       "      <td>7.545549e+00</td>\n",
       "      <td>5.866811e+00</td>\n",
       "      <td>7.134849e+00</td>\n",
       "      <td>5.777089e+00</td>\n",
       "      <td>2.654213e+01</td>\n",
       "      <td>2.643371e+01</td>\n",
       "      <td>2.656550e+01</td>\n",
       "      <td>1.618531e+00</td>\n",
       "      <td>1.052018e+02</td>\n",
       "      <td>2.981790e+00</td>\n",
       "    </tr>\n",
       "    <tr>\n",
       "      <th>min</th>\n",
       "      <td>1.780000e+02</td>\n",
       "      <td>0.000000e+00</td>\n",
       "      <td>-2.496282e+01</td>\n",
       "      <td>-5.667732e+01</td>\n",
       "      <td>2.000000e+03</td>\n",
       "      <td>1.000000e+00</td>\n",
       "      <td>1.000000e+00</td>\n",
       "      <td>0.000000e+00</td>\n",
       "      <td>0.000000e+00</td>\n",
       "      <td>0.000000e+00</td>\n",
       "      <td>...</td>\n",
       "      <td>-3.200000e+00</td>\n",
       "      <td>-1.000000e+01</td>\n",
       "      <td>-8.500000e+00</td>\n",
       "      <td>-1.000000e+01</td>\n",
       "      <td>0.000000e+00</td>\n",
       "      <td>0.000000e+00</td>\n",
       "      <td>0.000000e+00</td>\n",
       "      <td>0.000000e+00</td>\n",
       "      <td>0.000000e+00</td>\n",
       "      <td>0.000000e+00</td>\n",
       "    </tr>\n",
       "    <tr>\n",
       "      <th>25%</th>\n",
       "      <td>3.280000e+02</td>\n",
       "      <td>2.830000e+02</td>\n",
       "      <td>-2.239580e+01</td>\n",
       "      <td>-4.743410e+01</td>\n",
       "      <td>2.009000e+03</td>\n",
       "      <td>4.000000e+00</td>\n",
       "      <td>8.000000e+00</td>\n",
       "      <td>5.000000e+00</td>\n",
       "      <td>0.000000e+00</td>\n",
       "      <td>9.113000e+02</td>\n",
       "      <td>...</td>\n",
       "      <td>1.820000e+01</td>\n",
       "      <td>1.270000e+01</td>\n",
       "      <td>1.720000e+01</td>\n",
       "      <td>1.160000e+01</td>\n",
       "      <td>5.300000e+01</td>\n",
       "      <td>5.800000e+01</td>\n",
       "      <td>4.900000e+01</td>\n",
       "      <td>8.000000e-01</td>\n",
       "      <td>5.600000e+01</td>\n",
       "      <td>2.300000e+00</td>\n",
       "    </tr>\n",
       "    <tr>\n",
       "      <th>50%</th>\n",
       "      <td>3.580000e+02</td>\n",
       "      <td>5.730000e+02</td>\n",
       "      <td>-2.075041e+01</td>\n",
       "      <td>-4.445378e+01</td>\n",
       "      <td>2.011000e+03</td>\n",
       "      <td>7.000000e+00</td>\n",
       "      <td>1.600000e+01</td>\n",
       "      <td>1.200000e+01</td>\n",
       "      <td>0.000000e+00</td>\n",
       "      <td>9.442000e+02</td>\n",
       "      <td>...</td>\n",
       "      <td>2.190000e+01</td>\n",
       "      <td>1.660000e+01</td>\n",
       "      <td>2.080000e+01</td>\n",
       "      <td>1.560000e+01</td>\n",
       "      <td>7.400000e+01</td>\n",
       "      <td>7.800000e+01</td>\n",
       "      <td>7.000000e+01</td>\n",
       "      <td>1.700000e+00</td>\n",
       "      <td>1.140000e+02</td>\n",
       "      <td>4.200000e+00</td>\n",
       "    </tr>\n",
       "    <tr>\n",
       "      <th>75%</th>\n",
       "      <td>3.940000e+02</td>\n",
       "      <td>8.750000e+02</td>\n",
       "      <td>-1.891707e+01</td>\n",
       "      <td>-4.243575e+01</td>\n",
       "      <td>2.014000e+03</td>\n",
       "      <td>9.000000e+00</td>\n",
       "      <td>2.300000e+01</td>\n",
       "      <td>1.800000e+01</td>\n",
       "      <td>6.000000e-01</td>\n",
       "      <td>9.731000e+02</td>\n",
       "      <td>...</td>\n",
       "      <td>2.580000e+01</td>\n",
       "      <td>1.940000e+01</td>\n",
       "      <td>2.420000e+01</td>\n",
       "      <td>1.840000e+01</td>\n",
       "      <td>8.900000e+01</td>\n",
       "      <td>9.100000e+01</td>\n",
       "      <td>8.600000e+01</td>\n",
       "      <td>2.900000e+00</td>\n",
       "      <td>2.160000e+02</td>\n",
       "      <td>6.300000e+00</td>\n",
       "    </tr>\n",
       "    <tr>\n",
       "      <th>max</th>\n",
       "      <td>4.230000e+02</td>\n",
       "      <td>1.758000e+03</td>\n",
       "      <td>0.000000e+00</td>\n",
       "      <td>0.000000e+00</td>\n",
       "      <td>2.016000e+03</td>\n",
       "      <td>1.200000e+01</td>\n",
       "      <td>3.100000e+01</td>\n",
       "      <td>2.300000e+01</td>\n",
       "      <td>1.000000e+02</td>\n",
       "      <td>1.050000e+03</td>\n",
       "      <td>...</td>\n",
       "      <td>4.500000e+01</td>\n",
       "      <td>4.480000e+01</td>\n",
       "      <td>4.500000e+01</td>\n",
       "      <td>4.490000e+01</td>\n",
       "      <td>1.000000e+02</td>\n",
       "      <td>1.000000e+02</td>\n",
       "      <td>1.000000e+02</td>\n",
       "      <td>1.980000e+01</td>\n",
       "      <td>3.600000e+02</td>\n",
       "      <td>5.000000e+01</td>\n",
       "    </tr>\n",
       "  </tbody>\n",
       "</table>\n",
       "<p>8 rows × 25 columns</p>\n",
       "</div>"
      ],
      "text/plain": [
       "               wsid          elvt           lat           lon            yr  \\\n",
       "count  9.779168e+06  9.779168e+06  9.779168e+06  9.779168e+06  9.779168e+06   \n",
       "mean   3.592531e+02  5.940923e+02 -2.023082e+01 -4.464590e+01  2.011164e+03   \n",
       "std    3.901630e+01  3.980379e+02  3.172643e+00  4.882117e+00  3.207774e+00   \n",
       "min    1.780000e+02  0.000000e+00 -2.496282e+01 -5.667732e+01  2.000000e+03   \n",
       "25%    3.280000e+02  2.830000e+02 -2.239580e+01 -4.743410e+01  2.009000e+03   \n",
       "50%    3.580000e+02  5.730000e+02 -2.075041e+01 -4.445378e+01  2.011000e+03   \n",
       "75%    3.940000e+02  8.750000e+02 -1.891707e+01 -4.243575e+01  2.014000e+03   \n",
       "max    4.230000e+02  1.758000e+03  0.000000e+00  0.000000e+00  2.016000e+03   \n",
       "\n",
       "                 mo            da            hr          prcp           stp  \\\n",
       "count  9.779168e+06  9.779168e+06  9.779168e+06  1.407984e+06  9.779168e+06   \n",
       "mean   6.521960e+00  1.575465e+01  1.150000e+01  9.366544e-01  8.804292e+02   \n",
       "std    3.425538e+00  8.802154e+00  6.922190e+00  2.923291e+00  2.482650e+02   \n",
       "min    1.000000e+00  1.000000e+00  0.000000e+00  0.000000e+00  0.000000e+00   \n",
       "25%    4.000000e+00  8.000000e+00  5.000000e+00  0.000000e+00  9.113000e+02   \n",
       "50%    7.000000e+00  1.600000e+01  1.200000e+01  0.000000e+00  9.442000e+02   \n",
       "75%    9.000000e+00  2.300000e+01  1.800000e+01  6.000000e-01  9.731000e+02   \n",
       "max    1.200000e+01  3.100000e+01  2.300000e+01  1.000000e+02  1.050000e+03   \n",
       "\n",
       "       ...          tmax          dmax          tmin          dmin  \\\n",
       "count  ...  9.779142e+06  9.778858e+06  9.779134e+06  9.778361e+06   \n",
       "mean   ...  2.110503e+01  1.524025e+01  1.986418e+01  1.422089e+01   \n",
       "std    ...  7.545549e+00  5.866811e+00  7.134849e+00  5.777089e+00   \n",
       "min    ... -3.200000e+00 -1.000000e+01 -8.500000e+00 -1.000000e+01   \n",
       "25%    ...  1.820000e+01  1.270000e+01  1.720000e+01  1.160000e+01   \n",
       "50%    ...  2.190000e+01  1.660000e+01  2.080000e+01  1.560000e+01   \n",
       "75%    ...  2.580000e+01  1.940000e+01  2.420000e+01  1.840000e+01   \n",
       "max    ...  4.500000e+01  4.480000e+01  4.500000e+01  4.490000e+01   \n",
       "\n",
       "               hmdy          hmax          hmin          wdsp          wdct  \\\n",
       "count  9.779168e+06  9.779156e+06  9.779124e+06  8.853607e+06  9.779168e+06   \n",
       "mean   6.726667e+01  6.996991e+01  6.441965e+01  1.998156e+00  1.385991e+02   \n",
       "std    2.654213e+01  2.643371e+01  2.656550e+01  1.618531e+00  1.052018e+02   \n",
       "min    0.000000e+00  0.000000e+00  0.000000e+00  0.000000e+00  0.000000e+00   \n",
       "25%    5.300000e+01  5.800000e+01  4.900000e+01  8.000000e-01  5.600000e+01   \n",
       "50%    7.400000e+01  7.800000e+01  7.000000e+01  1.700000e+00  1.140000e+02   \n",
       "75%    8.900000e+01  9.100000e+01  8.600000e+01  2.900000e+00  2.160000e+02   \n",
       "max    1.000000e+02  1.000000e+02  1.000000e+02  1.980000e+01  3.600000e+02   \n",
       "\n",
       "               gust  \n",
       "count  9.462694e+06  \n",
       "mean   4.494015e+00  \n",
       "std    2.981790e+00  \n",
       "min    0.000000e+00  \n",
       "25%    2.300000e+00  \n",
       "50%    4.200000e+00  \n",
       "75%    6.300000e+00  \n",
       "max    5.000000e+01  \n",
       "\n",
       "[8 rows x 25 columns]"
      ]
     },
     "execution_count": 10,
     "metadata": {},
     "output_type": "execute_result"
    }
   ],
   "source": [
    "data.describe()"
   ]
  },
  {
   "cell_type": "code",
   "execution_count": 11,
   "metadata": {},
   "outputs": [
    {
     "data": {
      "text/html": [
       "<div>\n",
       "<style scoped>\n",
       "    .dataframe tbody tr th:only-of-type {\n",
       "        vertical-align: middle;\n",
       "    }\n",
       "\n",
       "    .dataframe tbody tr th {\n",
       "        vertical-align: top;\n",
       "    }\n",
       "\n",
       "    .dataframe thead th {\n",
       "        text-align: right;\n",
       "    }\n",
       "</style>\n",
       "<table border=\"1\" class=\"dataframe\">\n",
       "  <thead>\n",
       "    <tr style=\"text-align: right;\">\n",
       "      <th></th>\n",
       "      <th>wsid</th>\n",
       "      <th>wsnm</th>\n",
       "      <th>elvt</th>\n",
       "      <th>lat</th>\n",
       "      <th>lon</th>\n",
       "      <th>inme</th>\n",
       "      <th>city</th>\n",
       "      <th>prov</th>\n",
       "      <th>mdct</th>\n",
       "      <th>date</th>\n",
       "      <th>...</th>\n",
       "      <th>tmax</th>\n",
       "      <th>dmax</th>\n",
       "      <th>tmin</th>\n",
       "      <th>dmin</th>\n",
       "      <th>hmdy</th>\n",
       "      <th>hmax</th>\n",
       "      <th>hmin</th>\n",
       "      <th>wdsp</th>\n",
       "      <th>wdct</th>\n",
       "      <th>gust</th>\n",
       "    </tr>\n",
       "  </thead>\n",
       "  <tbody>\n",
       "    <tr>\n",
       "      <th>0</th>\n",
       "      <td>178</td>\n",
       "      <td>SÃO GONÇALO</td>\n",
       "      <td>237.0</td>\n",
       "      <td>-6.835777</td>\n",
       "      <td>-38.311583</td>\n",
       "      <td>A333</td>\n",
       "      <td>São Gonçalo</td>\n",
       "      <td>RJ</td>\n",
       "      <td>2007-11-06 00:00:00</td>\n",
       "      <td>2007-11-06</td>\n",
       "      <td>...</td>\n",
       "      <td>29.7</td>\n",
       "      <td>16.8</td>\n",
       "      <td>25.5</td>\n",
       "      <td>10.8</td>\n",
       "      <td>35.0</td>\n",
       "      <td>58.0</td>\n",
       "      <td>32.0</td>\n",
       "      <td>3.2</td>\n",
       "      <td>101.0</td>\n",
       "      <td>6.5</td>\n",
       "    </tr>\n",
       "    <tr>\n",
       "      <th>1</th>\n",
       "      <td>178</td>\n",
       "      <td>SÃO GONÇALO</td>\n",
       "      <td>237.0</td>\n",
       "      <td>-6.835777</td>\n",
       "      <td>-38.311583</td>\n",
       "      <td>A333</td>\n",
       "      <td>São Gonçalo</td>\n",
       "      <td>RJ</td>\n",
       "      <td>2007-11-06 01:00:00</td>\n",
       "      <td>2007-11-06</td>\n",
       "      <td>...</td>\n",
       "      <td>29.9</td>\n",
       "      <td>13.6</td>\n",
       "      <td>29.0</td>\n",
       "      <td>12.2</td>\n",
       "      <td>39.0</td>\n",
       "      <td>39.0</td>\n",
       "      <td>35.0</td>\n",
       "      <td>3.6</td>\n",
       "      <td>94.0</td>\n",
       "      <td>6.4</td>\n",
       "    </tr>\n",
       "    <tr>\n",
       "      <th>2</th>\n",
       "      <td>178</td>\n",
       "      <td>SÃO GONÇALO</td>\n",
       "      <td>237.0</td>\n",
       "      <td>-6.835777</td>\n",
       "      <td>-38.311583</td>\n",
       "      <td>A333</td>\n",
       "      <td>São Gonçalo</td>\n",
       "      <td>RJ</td>\n",
       "      <td>2007-11-06 02:00:00</td>\n",
       "      <td>2007-11-06</td>\n",
       "      <td>...</td>\n",
       "      <td>29.0</td>\n",
       "      <td>14.0</td>\n",
       "      <td>27.4</td>\n",
       "      <td>13.6</td>\n",
       "      <td>44.0</td>\n",
       "      <td>44.0</td>\n",
       "      <td>39.0</td>\n",
       "      <td>2.5</td>\n",
       "      <td>93.0</td>\n",
       "      <td>6.9</td>\n",
       "    </tr>\n",
       "    <tr>\n",
       "      <th>3</th>\n",
       "      <td>178</td>\n",
       "      <td>SÃO GONÇALO</td>\n",
       "      <td>237.0</td>\n",
       "      <td>-6.835777</td>\n",
       "      <td>-38.311583</td>\n",
       "      <td>A333</td>\n",
       "      <td>São Gonçalo</td>\n",
       "      <td>RJ</td>\n",
       "      <td>2007-11-06 03:00:00</td>\n",
       "      <td>2007-11-06</td>\n",
       "      <td>...</td>\n",
       "      <td>27.4</td>\n",
       "      <td>16.9</td>\n",
       "      <td>25.8</td>\n",
       "      <td>14.1</td>\n",
       "      <td>58.0</td>\n",
       "      <td>58.0</td>\n",
       "      <td>44.0</td>\n",
       "      <td>1.7</td>\n",
       "      <td>96.0</td>\n",
       "      <td>5.8</td>\n",
       "    </tr>\n",
       "    <tr>\n",
       "      <th>4</th>\n",
       "      <td>178</td>\n",
       "      <td>SÃO GONÇALO</td>\n",
       "      <td>237.0</td>\n",
       "      <td>-6.835777</td>\n",
       "      <td>-38.311583</td>\n",
       "      <td>A333</td>\n",
       "      <td>São Gonçalo</td>\n",
       "      <td>RJ</td>\n",
       "      <td>2007-11-06 04:00:00</td>\n",
       "      <td>2007-11-06</td>\n",
       "      <td>...</td>\n",
       "      <td>26.3</td>\n",
       "      <td>17.0</td>\n",
       "      <td>25.3</td>\n",
       "      <td>16.4</td>\n",
       "      <td>57.0</td>\n",
       "      <td>58.0</td>\n",
       "      <td>56.0</td>\n",
       "      <td>3.1</td>\n",
       "      <td>110.0</td>\n",
       "      <td>7.5</td>\n",
       "    </tr>\n",
       "  </tbody>\n",
       "</table>\n",
       "<p>5 rows × 31 columns</p>\n",
       "</div>"
      ],
      "text/plain": [
       "   wsid         wsnm   elvt       lat        lon  inme         city prov  \\\n",
       "0   178  SÃO GONÇALO  237.0 -6.835777 -38.311583  A333  São Gonçalo   RJ   \n",
       "1   178  SÃO GONÇALO  237.0 -6.835777 -38.311583  A333  São Gonçalo   RJ   \n",
       "2   178  SÃO GONÇALO  237.0 -6.835777 -38.311583  A333  São Gonçalo   RJ   \n",
       "3   178  SÃO GONÇALO  237.0 -6.835777 -38.311583  A333  São Gonçalo   RJ   \n",
       "4   178  SÃO GONÇALO  237.0 -6.835777 -38.311583  A333  São Gonçalo   RJ   \n",
       "\n",
       "                  mdct        date  ...  tmax  dmax  tmin  dmin  hmdy  hmax  \\\n",
       "0  2007-11-06 00:00:00  2007-11-06  ...  29.7  16.8  25.5  10.8  35.0  58.0   \n",
       "1  2007-11-06 01:00:00  2007-11-06  ...  29.9  13.6  29.0  12.2  39.0  39.0   \n",
       "2  2007-11-06 02:00:00  2007-11-06  ...  29.0  14.0  27.4  13.6  44.0  44.0   \n",
       "3  2007-11-06 03:00:00  2007-11-06  ...  27.4  16.9  25.8  14.1  58.0  58.0   \n",
       "4  2007-11-06 04:00:00  2007-11-06  ...  26.3  17.0  25.3  16.4  57.0  58.0   \n",
       "\n",
       "   hmin  wdsp   wdct  gust  \n",
       "0  32.0   3.2  101.0   6.5  \n",
       "1  35.0   3.6   94.0   6.4  \n",
       "2  39.0   2.5   93.0   6.9  \n",
       "3  44.0   1.7   96.0   5.8  \n",
       "4  56.0   3.1  110.0   7.5  \n",
       "\n",
       "[5 rows x 31 columns]"
      ]
     },
     "execution_count": 11,
     "metadata": {},
     "output_type": "execute_result"
    }
   ],
   "source": [
    "data.head()"
   ]
  },
  {
   "cell_type": "code",
   "execution_count": 12,
   "metadata": {},
   "outputs": [
    {
     "data": {
      "text/plain": [
       "array(['SÃO GONÇALO', 'VITÓRIA', 'SANTA TERESA', 'LINHARES',\n",
       "       'ALFREDO CHAVES', 'SÃO MATEUS', 'ALEGRE', 'PRES. KENNEDY',\n",
       "       'NOVA VENECIA', 'AFONSO CLAUDIO', 'BARBACENA', 'ARAXÁ',\n",
       "       'MONTES CLAROS', 'UBERLÂNDIA', 'ALMENARA', 'MONTE VERDE', 'VIÇOSA',\n",
       "       'TIMÓTEO', 'ITUIUTABA', 'OURO BRANCO', 'S.J.DEL REI', 'VARGINHA',\n",
       "       'PASSOS', 'MURIAÉ', 'JUÍZ DE FORA', 'CAMPINA VERDE',\n",
       "       'CONC. DAS ALAGOAS', 'BELO HOR. (PAMPULHA)', 'SERRA DOS AIMORES',\n",
       "       'PATROCÍNIO', 'FORMIGA', 'SACRAMENTO', 'MONTALVANIA',\n",
       "       'TEÓFILO OTONI', 'TRÊS MARIAS', 'PASSA QUATRO', 'CALDAS',\n",
       "       'MARIA DA FÉ', 'GOVERNADOR VALADARES', 'GUANHÃES', 'AIMORES',\n",
       "       'FLORESTAL', 'DORES DO INDAIÁ', 'DIAMANTINA', 'CURVELO',\n",
       "       'MOCAMBINHO', 'MANTENA', 'CAPELINHA', 'UNAI', 'ESPINOSA',\n",
       "       'BURITIS', 'PIRAPORA', 'GUARDA-MOR', 'SÃO ROMÃO', 'CHAPADA GAÚCHA',\n",
       "       'ÁGUAS VERMELHAS', 'ITAOBIM', 'RIO PARDO DE MINAS', 'SALINAS',\n",
       "       'JOÃO PINHEIRO', 'CARATINGA', 'IBIRITÈ (ROLA MOÇA)', 'MANHUAÇU',\n",
       "       'CORONEL PACHECO', 'JANUARIA', 'POMPEU',\n",
       "       'SÃO SEBASTIAO DO PARAÍSO', 'SETE LAGOAS',\n",
       "       'BELO HORIZONTE - CERCADINHO', 'ECOLOGIA AGRÍCOLA', 'MARAMBAIA',\n",
       "       'XEREM', 'CAMBUCÍ', 'ARRAIAL DO CABO', 'CAMPOS', 'MACAÉ',\n",
       "       'RESENDE', 'PICO DO COUTO', 'VALENÇA', 'TERESÓPOLIS', 'PARATÍ',\n",
       "       'SÃO TOMÉ', 'VILA MILITAR', 'NOVA FRIBURGO', 'TRÊS RIOS ',\n",
       "       'RIO CLARO', 'FORTE DE COPACABANA', 'JACAREPAGUA', 'SILVA JARDIM',\n",
       "       'SAQUAREMA', 'SAO PAULO', 'BAURU', 'CAMPOS DO JORDÃO',\n",
       "       'PRESIDENTE PRUDENTE', 'FRANCA', 'SÃO CARLOS', 'IGUAPE',\n",
       "       'SOROCABA', 'ITAPEVA', 'S. MIG. ARCANJO', 'OURINHOS', 'RANCHARIA',\n",
       "       'AVARÉ', 'PIRACICABA', 'LINS', 'TAUBATÉ', 'VOTUPORANGA', 'JALES',\n",
       "       'VALPARAISO', 'JOSÉ BONIFÁCIO', 'ARIRANHA', 'IBITINGA',\n",
       "       'CASA BRANCA', 'ITAPIRA', 'S LUIS DO PARAITINGA', 'BARRA BONITA',\n",
       "       'MOELA', 'BARRA DO TURVO', 'PRADÓPOLIS', 'BARRETOS', 'ITUVERAVA',\n",
       "       'BARUERI'], dtype=object)"
      ]
     },
     "execution_count": 12,
     "metadata": {},
     "output_type": "execute_result"
    }
   ],
   "source": [
    "data.wsnm.unique()"
   ]
  },
  {
   "cell_type": "markdown",
   "metadata": {},
   "source": [
    "__wsid__:\n",
    "- Weather station id\n",
    "\n",
    "__wsnm__:\n",
    "- Name station (usually city location or nickname)\n",
    "\n",
    "__evlt__:\n",
    "- Elevation\n",
    "\n",
    "__elvt__:\n",
    "- Elevation\n",
    "\n",
    "__lat__:\n",
    "- Latitude\n",
    "\n",
    "__lon__:\n",
    "- Longitude\n",
    "\n",
    "__inme__:\n",
    "- Station number (INMET number) for the location\n",
    "\n",
    "__city__:\n",
    "- City\n",
    "\n",
    "__prov__:\n",
    "- State (Province)\n",
    "\n",
    "__date__:\n",
    "- Date of observation\n",
    "    \n",
    "__yr__:\n",
    "- The year (2000-2016)\n",
    "\n",
    "__mo__:\n",
    "- The month (0-12)\n",
    "\n",
    "__da__:\n",
    "- The day (0-31)\n",
    "\n",
    "__hr__:\n",
    "- The hour (0-23)\n",
    "\n",
    "__prcp__:\n",
    "- Amount of precipitation in millimetres (last hour)\n",
    "\n",
    "__stp__:\n",
    "- Air pressure for the hour in hPa to tenths (instant)\n",
    "\n",
    "__smax__:\n",
    "- Maximum air pressure for the last hour in hPa to tenths\n",
    "\n",
    "__smin__:\n",
    "- Minimum air pressure for the last hour in hPa to tenths\n",
    "\n",
    "__gbrd__:\n",
    "- Solar radiation KJ/m2\n",
    "\n",
    "__temp__:\n",
    "- Air temperature (instant) in celsius degrees\n",
    "\n",
    "__dewp__:\n",
    "- Dew point temperature (instant) in celsius degrees\n",
    "\n",
    "__dmax__:\n",
    "- Maximum dew point temperature for the last hour in celsius degrees\n",
    "\n",
    "__dmin__:\n",
    "- Minimum dew point temperature for the last hour in celsius degrees\n",
    "\n",
    "__hmax__:\n",
    "- Maximum relative humid temperature for the last hour in %\n",
    "\n",
    "__hmin__:\n",
    "- Minimum relative humid temperature for the last hour in %\n",
    "\n",
    "__wdsp__:\n",
    "- Wind speed in metres per second\n",
    "\n",
    "__wdct__:\n",
    "- Wind direction in radius degrees (0-360)\n",
    "\n",
    "__gust__:\n",
    "- Wind gust in metres per second\n",
    "\n",
    "---"
   ]
  },
  {
   "cell_type": "markdown",
   "metadata": {},
   "source": [
    "## Correlation Map"
   ]
  },
  {
   "cell_type": "code",
   "execution_count": 13,
   "metadata": {},
   "outputs": [
    {
     "data": {
      "text/plain": [
       "<AxesSubplot:>"
      ]
     },
     "execution_count": 13,
     "metadata": {},
     "output_type": "execute_result"
    },
    {
     "data": {
      "image/png": "[encoded data removed]",
      "text/plain": [
       "<Figure size 1080x936 with 2 Axes>"
      ]
     },
     "metadata": {
      "needs_background": "light"
     },
     "output_type": "display_data"
    }
   ],
   "source": [
    "plt.rcParams[\"figure.figsize\"] = [15,13]\n",
    "sbs.heatmap(data.corr())"
   ]
  },
  {
   "cell_type": "markdown",
   "metadata": {},
   "source": [
    "## Histogram"
   ]
  },
  {
   "cell_type": "code",
   "execution_count": 14,
   "metadata": {
    "scrolled": false
   },
   "outputs": [
    {
     "data": {
      "image/png": "[encoded data removed]",
      "text/plain": [
       "<Figure size 1368x720 with 25 Axes>"
      ]
     },
     "metadata": {
      "needs_background": "light"
     },
     "output_type": "display_data"
    }
   ],
   "source": [
    "plt.rcParams[\"figure.figsize\"] = [19,10]\n",
    "data.hist()\n",
    "plt.show()"
   ]
  },
  {
   "cell_type": "markdown",
   "metadata": {},
   "source": [
    "---"
   ]
  },
  {
   "cell_type": "markdown",
   "metadata": {},
   "source": [
    "# Predicting Amount of Precipitation of next 48 hours"
   ]
  },
  {
   "cell_type": "markdown",
   "metadata": {},
   "source": [
    "## From stp, temp, dewp, hmin, hmax, wdsp of last 12 hours"
   ]
  },
  {
   "cell_type": "code",
   "execution_count": 120,
   "metadata": {},
   "outputs": [],
   "source": [
    "x_col = ['hr', 'stp', 'temp', 'dewp','hmin', 'hmax', 'wdsp']\n",
    "y_col = ['prcp']"
   ]
  },
  {
   "cell_type": "code",
   "execution_count": 121,
   "metadata": {},
   "outputs": [
    {
     "name": "stdout",
     "output_type": "stream",
     "text": [
      "0\n",
      "5000\n",
      "10000\n",
      "15000\n",
      "20000\n",
      "25000\n",
      "30000\n",
      "35000\n",
      "40000\n",
      "45000\n",
      "50000\n",
      "55000\n",
      "60000\n",
      "65000\n",
      "70000\n",
      "75000\n",
      "80000\n",
      "85000\n",
      "90000\n",
      "95000\n",
      "100000\n",
      "X_train shape (90000, 12, 7)\n",
      "y_train shape (90000,)\n"
     ]
    }
   ],
   "source": [
    "look_back = 12\n",
    "predict_forward = 48\n",
    "N = 100000\n",
    "\n",
    "X, Y = generate_np_data(data, x_col, y_col, look_back, predict_forward, N, True, False)\n",
    "\n",
    "train_size = 0.9\n",
    "\n",
    "X_train, X_test = X[0:int(train_size * len(X))], X[int(train_size * len(X)):]\n",
    "y_train, y_test = Y[0:int(train_size * len(Y))], Y[int(train_size * len(Y)):]\n",
    "\n",
    "print(\"X_train shape\", X_train.shape)\n",
    "print(\"y_train shape\", y_train.shape)"
   ]
  },
  {
   "cell_type": "markdown",
   "metadata": {},
   "source": [
    "## Using Random Forest, N Trees = 100, 10-fold Cross Validation"
   ]
  },
  {
   "cell_type": "code",
   "execution_count": 122,
   "metadata": {},
   "outputs": [],
   "source": [
    "rf = RandomForestClassifier(n_estimators=100, n_jobs=8)"
   ]
  },
  {
   "cell_type": "code",
   "execution_count": 123,
   "metadata": {},
   "outputs": [],
   "source": [
    "s_x = X.shape\n",
    "\n",
    "result_rf_clas = cross_validate(rf, X.reshape(s_x[0], s_x[1]*s_x[2]), Y, cv=10, scoring=('accuracy', 'f1'))"
   ]
  },
  {
   "cell_type": "code",
   "execution_count": 503,
   "metadata": {},
   "outputs": [
    {
     "data": {
      "image/png": "[encoded data removed]",
      "text/plain": [
       "<Figure size 720x576 with 2 Axes>"
      ]
     },
     "metadata": {
      "needs_background": "light"
     },
     "output_type": "display_data"
    }
   ],
   "source": [
    "sbs.heatmap(rf.feature_importances_.reshape(s_x[1], s_x[2])).set_title(\"Features Importances\")\n",
    "plt.show()"
   ]
  },
  {
   "cell_type": "markdown",
   "metadata": {},
   "source": [
    "### Results"
   ]
  },
  {
   "cell_type": "code",
   "execution_count": 504,
   "metadata": {},
   "outputs": [
    {
     "data": {
      "image/png": "[encoded data removed]",
      "text/plain": [
       "<Figure size 720x576 with 2 Axes>"
      ]
     },
     "metadata": {
      "needs_background": "light"
     },
     "output_type": "display_data"
    }
   ],
   "source": [
    "s_x = X_test.shape\n",
    "\n",
    "plt.rcParams[\"figure.figsize\"] = [10,8]\n",
    "plot_confusion_matrix(rf, X_test.reshape(s_x[0], s_x[1] * s_x[2]), y_test, normalize='true', cmap=plt.cm.Blues)\n",
    "plt.title(\"Confusion Matrix\")\n",
    "plt.show()"
   ]
  },
  {
   "cell_type": "code",
   "execution_count": 505,
   "metadata": {},
   "outputs": [
    {
     "name": "stdout",
     "output_type": "stream",
     "text": [
      "              precision    recall  f1-score   support\n",
      "\n",
      "           0       0.95      0.92      0.93      7832\n",
      "           1       0.73      0.84      0.78      2169\n",
      "\n",
      "    accuracy                           0.90     10001\n",
      "   macro avg       0.84      0.88      0.86     10001\n",
      "weighted avg       0.91      0.90      0.90     10001\n",
      "\n"
     ]
    }
   ],
   "source": [
    "y_pred = rf.predict(X_test.reshape(s_x[0], s_x[1] * s_x[2]))\n",
    "print(classification_report(y_test, y_pred))"
   ]
  },
  {
   "cell_type": "markdown",
   "metadata": {},
   "source": [
    "## Confidence interval of 95% for acc and f1"
   ]
  },
  {
   "cell_type": "code",
   "execution_count": 124,
   "metadata": {},
   "outputs": [
    {
     "name": "stdout",
     "output_type": "stream",
     "text": [
      "Accuracy: 0.83 (+/- 0.19)\n",
      "F1 Score: 0.86 (+/- 0.15)\n"
     ]
    }
   ],
   "source": [
    "result_acc = remove_min_max(result_rf_clas['test_accuracy'])\n",
    "result_f1 = remove_min_max(result_rf_clas['test_f1'])\n",
    "\n",
    "print(\"Accuracy: %0.2f (+/- %0.2f)\" % (result_acc.mean(), result_acc.std() * 2))\n",
    "print(\"F1 Score: %0.2f (+/- %0.2f)\" % (result_f1.mean(), result_f1.std() * 2))"
   ]
  },
  {
   "cell_type": "markdown",
   "metadata": {},
   "source": [
    "---"
   ]
  },
  {
   "cell_type": "markdown",
   "metadata": {},
   "source": [
    "## Using Gaussian Naive Bayes"
   ]
  },
  {
   "cell_type": "code",
   "execution_count": 125,
   "metadata": {},
   "outputs": [],
   "source": [
    "nb = GaussianNB()"
   ]
  },
  {
   "cell_type": "code",
   "execution_count": 126,
   "metadata": {},
   "outputs": [],
   "source": [
    "s_x = X.shape\n",
    "\n",
    "result_nb_clas = cross_validate(nb, X.reshape(s_x[0], s_x[1]*s_x[2]), Y, cv=10, scoring=('accuracy', 'f1'), n_jobs=8)"
   ]
  },
  {
   "cell_type": "markdown",
   "metadata": {},
   "source": [
    "### Results"
   ]
  },
  {
   "cell_type": "code",
   "execution_count": 508,
   "metadata": {
    "scrolled": false
   },
   "outputs": [
    {
     "data": {
      "image/png": "[encoded data removed]",
      "text/plain": [
       "<Figure size 720x576 with 2 Axes>"
      ]
     },
     "metadata": {
      "needs_background": "light"
     },
     "output_type": "display_data"
    }
   ],
   "source": [
    "s_x = X_test.shape\n",
    "\n",
    "plt.rcParams[\"figure.figsize\"] = [10,8]\n",
    "plot_confusion_matrix(nb, X_test.reshape(s_x[0], s_x[1] * s_x[2]), y_test, normalize='true', cmap=plt.cm.Blues)\n",
    "plt.title(\"Confusion Matrix\")\n",
    "plt.show()"
   ]
  },
  {
   "cell_type": "code",
   "execution_count": 509,
   "metadata": {},
   "outputs": [
    {
     "name": "stdout",
     "output_type": "stream",
     "text": [
      "              precision    recall  f1-score   support\n",
      "\n",
      "           0       0.95      0.93      0.94      7832\n",
      "           1       0.76      0.81      0.78      2169\n",
      "\n",
      "    accuracy                           0.90     10001\n",
      "   macro avg       0.85      0.87      0.86     10001\n",
      "weighted avg       0.91      0.90      0.90     10001\n",
      "\n"
     ]
    }
   ],
   "source": [
    "y_pred = nb.predict(X_test.reshape(s_x[0], s_x[1] * s_x[2]))\n",
    "print(classification_report(y_test, y_pred))"
   ]
  },
  {
   "cell_type": "markdown",
   "metadata": {},
   "source": [
    "## Confidence interval of 95% for acc and f1"
   ]
  },
  {
   "cell_type": "code",
   "execution_count": 127,
   "metadata": {},
   "outputs": [
    {
     "name": "stdout",
     "output_type": "stream",
     "text": [
      "Accuracy: 0.89 (+/- 0.08)\n",
      "F1 Score: 0.91 (+/- 0.06)\n"
     ]
    }
   ],
   "source": [
    "result_acc = remove_min_max(result_nb_clas['test_accuracy'])\n",
    "result_f1 = remove_min_max(result_nb_clas['test_f1'])\n",
    "\n",
    "print(\"Accuracy: %0.2f (+/- %0.2f)\" % (result_acc.mean(), result_acc.std() * 2))\n",
    "print(\"F1 Score: %0.2f (+/- %0.2f)\" % (result_f1.mean(), result_f1.std() * 2))"
   ]
  },
  {
   "cell_type": "markdown",
   "metadata": {},
   "source": [
    "---"
   ]
  },
  {
   "cell_type": "markdown",
   "metadata": {},
   "source": [
    "## Using LSTM"
   ]
  },
  {
   "cell_type": "code",
   "execution_count": 510,
   "metadata": {},
   "outputs": [],
   "source": [
    "model = get_model_lstm(look_back, X_train.shape[2])"
   ]
  },
  {
   "cell_type": "code",
   "execution_count": 511,
   "metadata": {
    "scrolled": true
   },
   "outputs": [
    {
     "name": "stdout",
     "output_type": "stream",
     "text": [
      "Epoch 1/10\n",
      "1407/1407 [==============================] - 8s 6ms/step - loss: 0.3508 - acc: 0.8729 - val_loss: 0.2518 - val_acc: 0.9075\n",
      "Epoch 2/10\n",
      "1407/1407 [==============================] - 7s 5ms/step - loss: 0.3466 - acc: 0.8735 - val_loss: 0.2427 - val_acc: 0.9084\n",
      "Epoch 3/10\n",
      "1407/1407 [==============================] - 7s 5ms/step - loss: 0.3455 - acc: 0.8736 - val_loss: 0.2343 - val_acc: 0.9061\n",
      "Epoch 4/10\n",
      "1407/1407 [==============================] - 7s 5ms/step - loss: 0.3447 - acc: 0.8738 - val_loss: 0.2427 - val_acc: 0.9081\n",
      "Epoch 5/10\n",
      "1407/1407 [==============================] - 7s 5ms/step - loss: 0.3443 - acc: 0.8738 - val_loss: 0.2307 - val_acc: 0.9062\n",
      "Epoch 6/10\n",
      "1407/1407 [==============================] - 7s 5ms/step - loss: 0.3441 - acc: 0.8741 - val_loss: 0.2388 - val_acc: 0.9076\n",
      "Epoch 7/10\n",
      "1407/1407 [==============================] - 7s 5ms/step - loss: 0.3443 - acc: 0.8744 - val_loss: 0.2361 - val_acc: 0.9069\n",
      "Epoch 8/10\n",
      "1407/1407 [==============================] - 7s 5ms/step - loss: 0.3437 - acc: 0.8743 - val_loss: 0.2333 - val_acc: 0.9067\n",
      "Epoch 9/10\n",
      "1407/1407 [==============================] - 8s 6ms/step - loss: 0.3437 - acc: 0.8741 - val_loss: 0.2451 - val_acc: 0.9081\n",
      "Epoch 10/10\n",
      "1407/1407 [==============================] - 8s 5ms/step - loss: 0.3439 - acc: 0.8743 - val_loss: 0.2350 - val_acc: 0.9074\n"
     ]
    },
    {
     "data": {
      "text/plain": [
       "<tensorflow.python.keras.callbacks.History at 0x7f8bf97424c0>"
      ]
     },
     "execution_count": 511,
     "metadata": {},
     "output_type": "execute_result"
    }
   ],
   "source": [
    "model.fit(X_train, y_train, validation_data = (X_test, y_test), batch_size=64, epochs=10)"
   ]
  },
  {
   "cell_type": "code",
   "execution_count": 512,
   "metadata": {},
   "outputs": [
    {
     "name": "stdout",
     "output_type": "stream",
     "text": [
      "              precision    recall  f1-score   support\n",
      "\n",
      "           0       0.97      0.91      0.94      7832\n",
      "           1       0.73      0.92      0.81      2169\n",
      "\n",
      "    accuracy                           0.91     10001\n",
      "   macro avg       0.85      0.91      0.87     10001\n",
      "weighted avg       0.92      0.91      0.91     10001\n",
      "\n"
     ]
    }
   ],
   "source": [
    "y_pred = model.predict(X_test) > 0.5\n",
    "print(classification_report(y_test, y_pred))"
   ]
  },
  {
   "cell_type": "markdown",
   "metadata": {},
   "source": [
    "## Confidence interval of 95% for acc and f1"
   ]
  },
  {
   "cell_type": "code",
   "execution_count": 128,
   "metadata": {},
   "outputs": [
    {
     "name": "stdout",
     "output_type": "stream",
     "text": [
      "Epoch 1/5\n",
      "1407/1407 [==============================] - 8s 5ms/step - loss: 0.3408 - acc: 0.8756 - val_loss: 0.3344 - val_acc: 0.8774\n",
      "Epoch 2/5\n",
      "1407/1407 [==============================] - 7s 5ms/step - loss: 0.3362 - acc: 0.8768 - val_loss: 0.3327 - val_acc: 0.8770\n",
      "Epoch 3/5\n",
      "1407/1407 [==============================] - 7s 5ms/step - loss: 0.3355 - acc: 0.8769 - val_loss: 0.3315 - val_acc: 0.8782\n",
      "Epoch 4/5\n",
      "1407/1407 [==============================] - 7s 5ms/step - loss: 0.3338 - acc: 0.8771 - val_loss: 0.3340 - val_acc: 0.8782\n",
      "Epoch 5/5\n",
      "1407/1407 [==============================] - 7s 5ms/step - loss: 0.3334 - acc: 0.8773 - val_loss: 0.3371 - val_acc: 0.8785\n",
      "Epoch 1/5\n",
      "1407/1407 [==============================] - 7s 5ms/step - loss: 0.3386 - acc: 0.8761 - val_loss: 0.3451 - val_acc: 0.8740\n",
      "Epoch 2/5\n",
      "1407/1407 [==============================] - 7s 5ms/step - loss: 0.3348 - acc: 0.8772 - val_loss: 0.3410 - val_acc: 0.8742\n",
      "Epoch 3/5\n",
      "1407/1407 [==============================] - 7s 5ms/step - loss: 0.3335 - acc: 0.8774 - val_loss: 0.3416 - val_acc: 0.8739\n",
      "Epoch 4/5\n",
      "1407/1407 [==============================] - 7s 5ms/step - loss: 0.3333 - acc: 0.8774 - val_loss: 0.3390 - val_acc: 0.8740\n",
      "Epoch 5/5\n",
      "1407/1407 [==============================] - 7s 5ms/step - loss: 0.3325 - acc: 0.8780 - val_loss: 0.3412 - val_acc: 0.8746\n",
      "Epoch 1/5\n",
      "1407/1407 [==============================] - 8s 6ms/step - loss: 0.3405 - acc: 0.8768 - val_loss: 0.3532 - val_acc: 0.8711\n",
      "Epoch 2/5\n",
      "1407/1407 [==============================] - 8s 5ms/step - loss: 0.3379 - acc: 0.8771 - val_loss: 0.3491 - val_acc: 0.8729\n",
      "Epoch 3/5\n",
      "1407/1407 [==============================] - 8s 5ms/step - loss: 0.3372 - acc: 0.8775 - val_loss: 0.3457 - val_acc: 0.8725\n",
      "Epoch 4/5\n",
      "1407/1407 [==============================] - 7s 5ms/step - loss: 0.3368 - acc: 0.8775 - val_loss: 0.3453 - val_acc: 0.8722\n",
      "Epoch 5/5\n",
      "1407/1407 [==============================] - 7s 5ms/step - loss: 0.3363 - acc: 0.8779 - val_loss: 0.3447 - val_acc: 0.8727\n",
      "Epoch 1/5\n",
      "1407/1407 [==============================] - 8s 5ms/step - loss: 0.3386 - acc: 0.8760 - val_loss: 0.3449 - val_acc: 0.8751\n",
      "Epoch 2/5\n",
      "1407/1407 [==============================] - 7s 5ms/step - loss: 0.3341 - acc: 0.8771 - val_loss: 0.3405 - val_acc: 0.8756\n",
      "Epoch 3/5\n",
      "1407/1407 [==============================] - 7s 5ms/step - loss: 0.3332 - acc: 0.8771 - val_loss: 0.3406 - val_acc: 0.8753\n",
      "Epoch 4/5\n",
      "1407/1407 [==============================] - 7s 5ms/step - loss: 0.3329 - acc: 0.8772 - val_loss: 0.3375 - val_acc: 0.8758\n",
      "Epoch 5/5\n",
      "1407/1407 [==============================] - 7s 5ms/step - loss: 0.3319 - acc: 0.8775 - val_loss: 0.3415 - val_acc: 0.8759\n",
      "Epoch 1/5\n",
      "1407/1407 [==============================] - 7s 5ms/step - loss: 0.3407 - acc: 0.8762 - val_loss: 0.3412 - val_acc: 0.8758\n",
      "Epoch 2/5\n",
      "1407/1407 [==============================] - 7s 5ms/step - loss: 0.3361 - acc: 0.8772 - val_loss: 0.3379 - val_acc: 0.8753\n",
      "Epoch 3/5\n",
      "1407/1407 [==============================] - 7s 5ms/step - loss: 0.3339 - acc: 0.8774 - val_loss: 0.3414 - val_acc: 0.8738\n",
      "Epoch 4/5\n",
      "1407/1407 [==============================] - 7s 5ms/step - loss: 0.3330 - acc: 0.8778 - val_loss: 0.3369 - val_acc: 0.8747\n",
      "Epoch 5/5\n",
      "1407/1407 [==============================] - 7s 5ms/step - loss: 0.3331 - acc: 0.8776 - val_loss: 0.3343 - val_acc: 0.8750\n",
      "Epoch 1/5\n",
      "1407/1407 [==============================] - 7s 5ms/step - loss: 0.3416 - acc: 0.8758 - val_loss: 0.3365 - val_acc: 0.8768\n",
      "Epoch 2/5\n",
      "1407/1407 [==============================] - 7s 5ms/step - loss: 0.3387 - acc: 0.8768 - val_loss: 0.3377 - val_acc: 0.8769\n",
      "Epoch 3/5\n",
      "1407/1407 [==============================] - 7s 5ms/step - loss: 0.3384 - acc: 0.8768 - val_loss: 0.3358 - val_acc: 0.8781\n",
      "Epoch 4/5\n",
      "1407/1407 [==============================] - 7s 5ms/step - loss: 0.3380 - acc: 0.8770 - val_loss: 0.3423 - val_acc: 0.8781\n",
      "Epoch 5/5\n",
      "1407/1407 [==============================] - 7s 5ms/step - loss: 0.3379 - acc: 0.8773 - val_loss: 0.3369 - val_acc: 0.8759\n",
      "Epoch 1/5\n",
      "1407/1407 [==============================] - 8s 5ms/step - loss: 0.3398 - acc: 0.8762 - val_loss: 0.3513 - val_acc: 0.8737\n",
      "Epoch 2/5\n",
      "1407/1407 [==============================] - 7s 5ms/step - loss: 0.3378 - acc: 0.8771 - val_loss: 0.3518 - val_acc: 0.8739\n",
      "Epoch 3/5\n",
      "1407/1407 [==============================] - 7s 5ms/step - loss: 0.3372 - acc: 0.8772 - val_loss: 0.3456 - val_acc: 0.8730\n",
      "Epoch 4/5\n",
      "1407/1407 [==============================] - 7s 5ms/step - loss: 0.3368 - acc: 0.8773 - val_loss: 0.3524 - val_acc: 0.8726\n",
      "Epoch 5/5\n",
      "1407/1407 [==============================] - 7s 5ms/step - loss: 0.3362 - acc: 0.8774 - val_loss: 0.3470 - val_acc: 0.8748\n",
      "Epoch 1/5\n",
      "1407/1407 [==============================] - 7s 5ms/step - loss: 0.3391 - acc: 0.8762 - val_loss: 0.3382 - val_acc: 0.8746\n",
      "Epoch 2/5\n",
      "1407/1407 [==============================] - 7s 5ms/step - loss: 0.3352 - acc: 0.8770 - val_loss: 0.3412 - val_acc: 0.8749\n",
      "Epoch 3/5\n",
      "1407/1407 [==============================] - 7s 5ms/step - loss: 0.3344 - acc: 0.8774 - val_loss: 0.3376 - val_acc: 0.8751\n",
      "Epoch 4/5\n",
      "1407/1407 [==============================] - 7s 5ms/step - loss: 0.3339 - acc: 0.8771 - val_loss: 0.3424 - val_acc: 0.8747\n",
      "Epoch 5/5\n",
      "1407/1407 [==============================] - 7s 5ms/step - loss: 0.3333 - acc: 0.8776 - val_loss: 0.3352 - val_acc: 0.8745\n",
      "Epoch 1/5\n",
      "1407/1407 [==============================] - 7s 5ms/step - loss: 0.3382 - acc: 0.8768 - val_loss: 0.3455 - val_acc: 0.8720\n",
      "Epoch 2/5\n",
      "1407/1407 [==============================] - 7s 5ms/step - loss: 0.3338 - acc: 0.8776 - val_loss: 0.3414 - val_acc: 0.8722\n",
      "Epoch 3/5\n",
      "1407/1407 [==============================] - 7s 5ms/step - loss: 0.3327 - acc: 0.8776 - val_loss: 0.3429 - val_acc: 0.8721\n",
      "Epoch 4/5\n",
      "1407/1407 [==============================] - 7s 5ms/step - loss: 0.3320 - acc: 0.8777 - val_loss: 0.3489 - val_acc: 0.8713\n",
      "Epoch 5/5\n",
      "1407/1407 [==============================] - 7s 5ms/step - loss: 0.3325 - acc: 0.8777 - val_loss: 0.3420 - val_acc: 0.8719\n",
      "Epoch 1/5\n",
      "1407/1407 [==============================] - 7s 5ms/step - loss: 0.3403 - acc: 0.8759 - val_loss: 0.3378 - val_acc: 0.8773\n",
      "Epoch 2/5\n",
      "1407/1407 [==============================] - 7s 5ms/step - loss: 0.3358 - acc: 0.8770 - val_loss: 0.3325 - val_acc: 0.8773\n",
      "Epoch 3/5\n",
      "1407/1407 [==============================] - 7s 5ms/step - loss: 0.3344 - acc: 0.8770 - val_loss: 0.3329 - val_acc: 0.8776\n",
      "Epoch 4/5\n",
      "1407/1407 [==============================] - 7s 5ms/step - loss: 0.3337 - acc: 0.8774 - val_loss: 0.3350 - val_acc: 0.8779\n",
      "Epoch 5/5\n",
      "1407/1407 [==============================] - 7s 5ms/step - loss: 0.3334 - acc: 0.8774 - val_loss: 0.3331 - val_acc: 0.8774\n"
     ]
    }
   ],
   "source": [
    "result_lstm_clas = cross_validate_lstm(X, Y, look_back)"
   ]
  },
  {
   "cell_type": "code",
   "execution_count": 129,
   "metadata": {},
   "outputs": [
    {
     "name": "stdout",
     "output_type": "stream",
     "text": [
      "Accuracy: 0.88 (+/- 0.003)\n",
      "F1 Score: 0.90 (+/- 0.003)\n"
     ]
    }
   ],
   "source": [
    "result_acc = remove_min_max(np.array([row[1] for row in result_lstm_clas]))\n",
    "result_f1 = remove_min_max(np.array([row[0] for row in result_lstm_clas]))\n",
    "\n",
    "print(\"Accuracy: %0.2f (+/- %0.3f)\" % (result_acc.mean(), result_acc.std() * 2))\n",
    "print(\"F1 Score: %0.2f (+/- %0.3f)\" % (result_f1.mean(), result_f1.std() * 2))"
   ]
  },
  {
   "cell_type": "markdown",
   "metadata": {},
   "source": [
    "---"
   ]
  },
  {
   "cell_type": "markdown",
   "metadata": {},
   "source": [
    "## Comparison between algorithms"
   ]
  },
  {
   "cell_type": "markdown",
   "metadata": {},
   "source": [
    "### F1 Score"
   ]
  },
  {
   "cell_type": "code",
   "execution_count": 141,
   "metadata": {},
   "outputs": [
    {
     "data": {
      "image/png": "[encoded data removed]",
      "text/plain": [
       "<Figure size 576x360 with 1 Axes>"
      ]
     },
     "metadata": {},
     "output_type": "display_data"
    }
   ],
   "source": [
    "result_f1_rf = remove_min_max(result_rf_clas['test_f1'])\n",
    "result_f1_nb = remove_min_max(result_nb_clas['test_f1'])\n",
    "result_f1_lstm = remove_min_max(np.array([row[0] for row in result_lstm_clas]))\n",
    "\n",
    "results = [result_f1_rf, result_f1_nb, result_f1_lstm]\n",
    "\n",
    "plt.style.use('bmh')\n",
    "\n",
    "fig = plt.figure(figsize=(8,5))\n",
    "fig.suptitle(\"Comparação F1 Score\")\n",
    "ax = fig.add_subplot(111)\n",
    "plt.boxplot(results)\n",
    "ax.set_xticklabels([\"RF\", \"NB\", \"LSTM\"])\n",
    "plt.show()"
   ]
  },
  {
   "cell_type": "markdown",
   "metadata": {},
   "source": [
    "### Accuracy Score"
   ]
  },
  {
   "cell_type": "code",
   "execution_count": 143,
   "metadata": {},
   "outputs": [
    {
     "data": {
      "image/png": "[encoded data removed]",
      "text/plain": [
       "<Figure size 576x360 with 1 Axes>"
      ]
     },
     "metadata": {},
     "output_type": "display_data"
    }
   ],
   "source": [
    "result_acc_rf = remove_min_max(result_rf_clas['test_accuracy'])\n",
    "result_acc_nb = remove_min_max(result_nb_clas['test_accuracy'])\n",
    "result_acc_lstm = remove_min_max(np.array([row[1] for row in result_lstm_clas]))\n",
    "\n",
    "results = [result_acc_rf, result_acc_nb, result_acc_lstm]\n",
    "\n",
    "plt.style.use('bmh')\n",
    "\n",
    "fig = plt.figure(figsize=(8,5))\n",
    "fig.suptitle(\"Comparação Acurácia\")\n",
    "ax = fig.add_subplot(111)\n",
    "plt.boxplot(results)\n",
    "ax.set_xticklabels([\"RF\", \"NB\", \"LSTM\"])\n",
    "plt.show()"
   ]
  },
  {
   "cell_type": "markdown",
   "metadata": {},
   "source": [
    "---"
   ]
  },
  {
   "cell_type": "markdown",
   "metadata": {},
   "source": [
    "# Predicting Wind Speed and Direction of next 6 hours"
   ]
  },
  {
   "cell_type": "markdown",
   "metadata": {},
   "source": [
    "### From stp, temp, dewp, hmin, hmax, prcp of last 16 hours"
   ]
  },
  {
   "cell_type": "code",
   "execution_count": 105,
   "metadata": {},
   "outputs": [],
   "source": [
    "x_col = ['hr', 'stp', 'temp', 'dewp', 'hmin', 'hmax', 'prcp']\n",
    "y_col = ['wdsp', 'wdct']"
   ]
  },
  {
   "cell_type": "code",
   "execution_count": 106,
   "metadata": {},
   "outputs": [
    {
     "name": "stdout",
     "output_type": "stream",
     "text": [
      "0\n",
      "5000\n",
      "10000\n",
      "15000\n",
      "20000\n",
      "25000\n",
      "30000\n",
      "35000\n",
      "40000\n",
      "45000\n",
      "50000\n",
      "55000\n",
      "60000\n",
      "65000\n",
      "70000\n",
      "75000\n",
      "80000\n",
      "85000\n",
      "90000\n",
      "95000\n",
      "100000\n",
      "X_train shape (80000, 16, 7)\n"
     ]
    }
   ],
   "source": [
    "look_back = 16\n",
    "predict_forward = 6\n",
    "N = 100000\n",
    "\n",
    "X, Y = generate_np_data(data, x_col, y_col, look_back, predict_forward, N, False, False)\n",
    "\n",
    "train_size = 0.8\n",
    "\n",
    "X_train, X_test = X[0:int(train_size * len(X))], X[int(train_size * len(X)):]\n",
    "y_train, y_test = Y[0:int(train_size * len(Y))], Y[int(train_size * len(Y)):]\n",
    "\n",
    "print(\"X_train shape\", X_train.shape)"
   ]
  },
  {
   "cell_type": "markdown",
   "metadata": {},
   "source": [
    "## Using Random Forest, N Trees = 100"
   ]
  },
  {
   "cell_type": "code",
   "execution_count": 107,
   "metadata": {},
   "outputs": [],
   "source": [
    "rf = RandomForestRegressor(n_estimators=100, n_jobs=8)"
   ]
  },
  {
   "cell_type": "code",
   "execution_count": 108,
   "metadata": {},
   "outputs": [],
   "source": [
    "s_x = X.shape\n",
    "\n",
    "result = cross_validate(rf, X.reshape(s_x[0], s_x[1]*s_x[2]), Y, cv=10, scoring=('r2', 'neg_mean_absolute_error'), n_jobs=8)"
   ]
  },
  {
   "cell_type": "code",
   "execution_count": 109,
   "metadata": {},
   "outputs": [],
   "source": [
    "result_rf_reg = result"
   ]
  },
  {
   "cell_type": "code",
   "execution_count": 518,
   "metadata": {},
   "outputs": [
    {
     "data": {
      "image/png": "[encoded data removed]",
      "text/plain": [
       "<Figure size 720x576 with 2 Axes>"
      ]
     },
     "metadata": {
      "needs_background": "light"
     },
     "output_type": "display_data"
    }
   ],
   "source": [
    "sbs.heatmap(rf.feature_importances_.reshape(s_x[1], s_x[2])).set_title(\"Features Importances\")\n",
    "plt.show()"
   ]
  },
  {
   "cell_type": "markdown",
   "metadata": {},
   "source": [
    "### Results"
   ]
  },
  {
   "cell_type": "code",
   "execution_count": 519,
   "metadata": {},
   "outputs": [],
   "source": [
    "s_x = X_test.shape\n",
    "y_pred = rf.predict(X_test.reshape(s_x[0], s_x[1] * s_x[2]))"
   ]
  },
  {
   "cell_type": "code",
   "execution_count": 520,
   "metadata": {},
   "outputs": [],
   "source": [
    "r2_tree = r2_score(y_test, y_pred, multioutput='raw_values')\n",
    "mae_tree = mean_absolute_error(y_test, y_pred, multioutput='raw_values')"
   ]
  },
  {
   "cell_type": "code",
   "execution_count": 521,
   "metadata": {},
   "outputs": [
    {
     "name": "stdout",
     "output_type": "stream",
     "text": [
      "R^2 Score for each value (1 is the best, 0 is the worse): [0.59901503 0.55768471]\n",
      "Mean Absolute Error for each value (less is better): [ 0.35158511 28.63855145]\n"
     ]
    }
   ],
   "source": [
    "print(\"R^2 Score for each value (1 is the best, 0 is the worse):\",r2_tree)\n",
    "print(\"Mean Absolute Error for each value (less is better):\", mae_tree)"
   ]
  },
  {
   "cell_type": "markdown",
   "metadata": {},
   "source": [
    "## Confidence interval of 95% for r2 and mae"
   ]
  },
  {
   "cell_type": "code",
   "execution_count": 110,
   "metadata": {},
   "outputs": [
    {
     "name": "stdout",
     "output_type": "stream",
     "text": [
      "R^2: 0.44 (+/- 0.32)\n",
      "Mean Absolute Error: 12.86 (+/- 11.83)\n"
     ]
    }
   ],
   "source": [
    "result_r2 = remove_min_max(result['test_r2'])\n",
    "result_mae = remove_min_max(-result['test_neg_mean_absolute_error'])\n",
    "\n",
    "print(\"R^2: %0.2f (+/- %0.2f)\" % (result_r2.mean(), result_r2.std() * 2))\n",
    "print(\"Mean Absolute Error: %0.2f (+/- %0.2f)\" % (result_mae.mean(), result_mae.std() * 2))"
   ]
  },
  {
   "cell_type": "markdown",
   "metadata": {},
   "source": [
    "---"
   ]
  },
  {
   "cell_type": "markdown",
   "metadata": {},
   "source": [
    "## Using Elastic Net"
   ]
  },
  {
   "cell_type": "code",
   "execution_count": 111,
   "metadata": {},
   "outputs": [],
   "source": [
    "en = ElasticNet(max_iter=5000)"
   ]
  },
  {
   "cell_type": "code",
   "execution_count": 112,
   "metadata": {},
   "outputs": [],
   "source": [
    "s_x = X.shape\n",
    "\n",
    "result_en_reg = cross_validate(en, X.reshape(s_x[0], s_x[1]*s_x[2]), Y, cv=10, scoring=('r2', 'neg_mean_absolute_error'), n_jobs=8)"
   ]
  },
  {
   "cell_type": "markdown",
   "metadata": {},
   "source": [
    "### Results"
   ]
  },
  {
   "cell_type": "code",
   "execution_count": 524,
   "metadata": {},
   "outputs": [],
   "source": [
    "s_x = X_test.shape\n",
    "y_pred = en.predict(X_test.reshape(s_x[0], s_x[1] * s_x[2]))"
   ]
  },
  {
   "cell_type": "code",
   "execution_count": 525,
   "metadata": {},
   "outputs": [],
   "source": [
    "r2_en = r2_score(y_test, y_pred, multioutput='raw_values')\n",
    "mae_en = mean_absolute_error(y_test, y_pred, multioutput='raw_values')"
   ]
  },
  {
   "cell_type": "code",
   "execution_count": 526,
   "metadata": {},
   "outputs": [
    {
     "name": "stdout",
     "output_type": "stream",
     "text": [
      "R^2 Score for each value (1 is the best, 0 is the worse): [0.6284566  0.57358701]\n",
      "Mean Absolute Error for each value (less is better): [ 0.34203335 28.91985739]\n"
     ]
    }
   ],
   "source": [
    "print(\"R^2 Score for each value (1 is the best, 0 is the worse):\",r2_en)\n",
    "print(\"Mean Absolute Error for each value (less is better):\", mae_en)"
   ]
  },
  {
   "cell_type": "markdown",
   "metadata": {},
   "source": [
    "## Confidence interval of 95% for r2 and mae"
   ]
  },
  {
   "cell_type": "code",
   "execution_count": 113,
   "metadata": {},
   "outputs": [
    {
     "name": "stdout",
     "output_type": "stream",
     "text": [
      "R^2: 0.45 (+/- 0.30)\n",
      "Mean Absolute Error: 12.74 (+/- 11.19)\n"
     ]
    }
   ],
   "source": [
    "result_r2 = remove_min_max(result_en_reg['test_r2'])\n",
    "result_mae = remove_min_max(-result_en_reg['test_neg_mean_absolute_error'])\n",
    "\n",
    "print(\"R^2: %0.2f (+/- %0.2f)\" % (result_r2.mean(), result_r2.std() * 2))\n",
    "print(\"Mean Absolute Error: %0.2f (+/- %0.2f)\" % (result_mae.mean(), result_mae.std() * 2))"
   ]
  },
  {
   "cell_type": "markdown",
   "metadata": {},
   "source": [
    "---"
   ]
  },
  {
   "cell_type": "markdown",
   "metadata": {},
   "source": [
    "## Using LSTM"
   ]
  },
  {
   "cell_type": "code",
   "execution_count": 532,
   "metadata": {},
   "outputs": [],
   "source": [
    "model = get_model_lstm_regression(look_back, X_train.shape[2], len(y_train.shape))"
   ]
  },
  {
   "cell_type": "code",
   "execution_count": 533,
   "metadata": {
    "scrolled": true
   },
   "outputs": [
    {
     "name": "stdout",
     "output_type": "stream",
     "text": [
      "Epoch 1/10\n",
      "1250/1250 [==============================] - 7s 5ms/step - loss: 2260.9915 - mse: 2260.9915 - mae: 13.9211 - val_loss: 2179.3816 - val_mse: 2179.3816 - val_mae: 15.0704\n",
      "Epoch 2/10\n",
      "1250/1250 [==============================] - 6s 5ms/step - loss: 1444.7032 - mse: 1444.7032 - mae: 11.8595 - val_loss: 1814.7583 - val_mse: 1814.7583 - val_mae: 14.4304\n",
      "Epoch 3/10\n",
      "1250/1250 [==============================] - 6s 5ms/step - loss: 1398.0520 - mse: 1398.0520 - mae: 11.9684 - val_loss: 1806.2629 - val_mse: 1806.2629 - val_mae: 15.2301\n",
      "Epoch 4/10\n",
      "1250/1250 [==============================] - 6s 5ms/step - loss: 1392.3761 - mse: 1392.3761 - mae: 12.0465 - val_loss: 1783.1744 - val_mse: 1783.1744 - val_mae: 15.1546\n",
      "Epoch 5/10\n",
      "1250/1250 [==============================] - 6s 5ms/step - loss: 1389.9233 - mse: 1389.9233 - mae: 11.9591 - val_loss: 1779.1356 - val_mse: 1779.1356 - val_mae: 14.4010\n",
      "Epoch 6/10\n",
      "1250/1250 [==============================] - 6s 5ms/step - loss: 1390.3945 - mse: 1390.3945 - mae: 11.9374 - val_loss: 1811.5626 - val_mse: 1811.5626 - val_mae: 14.7650\n",
      "Epoch 7/10\n",
      "1250/1250 [==============================] - 6s 5ms/step - loss: 1385.5800 - mse: 1385.5800 - mae: 11.9296 - val_loss: 1787.6072 - val_mse: 1787.6072 - val_mae: 14.7111\n",
      "Epoch 8/10\n",
      "1250/1250 [==============================] - 6s 5ms/step - loss: 1385.8435 - mse: 1385.8435 - mae: 11.9088 - val_loss: 1774.4297 - val_mse: 1774.4297 - val_mae: 14.4958\n",
      "Epoch 9/10\n",
      "1250/1250 [==============================] - 6s 5ms/step - loss: 1382.9916 - mse: 1382.9916 - mae: 11.9751 - val_loss: 1781.0135 - val_mse: 1781.0135 - val_mae: 15.8511\n",
      "Epoch 10/10\n",
      "1250/1250 [==============================] - 6s 5ms/step - loss: 1380.3896 - mse: 1380.3896 - mae: 12.0108 - val_loss: 1790.4366 - val_mse: 1790.4366 - val_mae: 14.6920\n"
     ]
    },
    {
     "data": {
      "text/plain": [
       "<tensorflow.python.keras.callbacks.History at 0x7f8bf614e2b0>"
      ]
     },
     "execution_count": 533,
     "metadata": {},
     "output_type": "execute_result"
    }
   ],
   "source": [
    "model.fit(X_train, y_train, validation_data = (X_test, y_test), batch_size=64, epochs=10)"
   ]
  },
  {
   "cell_type": "markdown",
   "metadata": {},
   "source": [
    "### Results"
   ]
  },
  {
   "cell_type": "code",
   "execution_count": 534,
   "metadata": {},
   "outputs": [],
   "source": [
    "s_x = X_test.shape\n",
    "y_pred = model.predict(X_test)"
   ]
  },
  {
   "cell_type": "code",
   "execution_count": 535,
   "metadata": {},
   "outputs": [],
   "source": [
    "r2_lstm = r2_score(y_test, y_pred, multioutput='raw_values')\n",
    "mae_lstm = mean_absolute_error(y_test, y_pred, multioutput='raw_values')"
   ]
  },
  {
   "cell_type": "code",
   "execution_count": 536,
   "metadata": {},
   "outputs": [
    {
     "name": "stdout",
     "output_type": "stream",
     "text": [
      "R^2 Score for each value (1 is the best, 0 is the worse): [0.60825231 0.56613962]\n",
      "Mean Absolute Error for each value (less is better): [ 0.35357897 29.03042109]\n"
     ]
    }
   ],
   "source": [
    "print(\"R^2 Score for each value (1 is the best, 0 is the worse):\",r2_lstm)\n",
    "print(\"Mean Absolute Error for each value (less is better):\", mae_lstm)"
   ]
  },
  {
   "cell_type": "markdown",
   "metadata": {},
   "source": [
    "## Confidence interval 95% for r2 and mae"
   ]
  },
  {
   "cell_type": "code",
   "execution_count": 115,
   "metadata": {
    "scrolled": true
   },
   "outputs": [
    {
     "name": "stdout",
     "output_type": "stream",
     "text": [
      "Epoch 1/5\n",
      "1407/1407 [==============================] - 8s 6ms/step - loss: 2232.8574 - mse: 2232.8574 - mae: 14.0485 - val_loss: 1508.1456 - val_mse: 1508.1456 - val_mae: 12.1458\n",
      "Epoch 2/5\n",
      "1407/1407 [==============================] - 7s 5ms/step - loss: 1489.0111 - mse: 1489.0111 - mae: 12.3606 - val_loss: 1461.2789 - val_mse: 1461.2789 - val_mae: 12.3653\n",
      "Epoch 3/5\n",
      "1407/1407 [==============================] - 8s 5ms/step - loss: 1472.1594 - mse: 1472.1594 - mae: 12.3320 - val_loss: 1449.7825 - val_mse: 1449.7825 - val_mae: 12.2018\n",
      "Epoch 4/5\n",
      "1407/1407 [==============================] - 8s 5ms/step - loss: 1469.4335 - mse: 1469.4335 - mae: 12.3325 - val_loss: 1455.8263 - val_mse: 1455.8263 - val_mae: 12.2483\n",
      "Epoch 5/5\n",
      "1407/1407 [==============================] - 8s 5ms/step - loss: 1466.0028 - mse: 1466.0028 - mae: 12.4716 - val_loss: 1444.1665 - val_mse: 1444.1665 - val_mae: 12.9326\n",
      "Epoch 1/5\n",
      "1407/1407 [==============================] - 8s 6ms/step - loss: 2360.5569 - mse: 2360.5569 - mae: 14.4838 - val_loss: 1639.3564 - val_mse: 1639.3564 - val_mae: 12.0021\n",
      "Epoch 2/5\n",
      "1407/1407 [==============================] - 8s 5ms/step - loss: 1492.9399 - mse: 1492.9399 - mae: 12.1308 - val_loss: 1555.1469 - val_mse: 1555.1469 - val_mae: 12.2325\n",
      "Epoch 3/5\n",
      "1407/1407 [==============================] - 8s 5ms/step - loss: 1467.7324 - mse: 1467.7324 - mae: 12.3966 - val_loss: 1538.3273 - val_mse: 1538.3273 - val_mae: 12.8728\n",
      "Epoch 4/5\n",
      "1407/1407 [==============================] - 7s 5ms/step - loss: 1462.9148 - mse: 1462.9148 - mae: 12.4201 - val_loss: 1534.4653 - val_mse: 1534.4653 - val_mae: 12.5877\n",
      "Epoch 5/5\n",
      "1407/1407 [==============================] - 7s 5ms/step - loss: 1459.0507 - mse: 1459.0507 - mae: 12.4935 - val_loss: 1529.1102 - val_mse: 1529.1102 - val_mae: 12.8490\n",
      "Epoch 1/5\n",
      "1407/1407 [==============================] - 8s 6ms/step - loss: 3857.6174 - mse: 3857.6174 - mae: 18.4189 - val_loss: 4087.4202 - val_mse: 4087.4202 - val_mae: 18.9798\n",
      "Epoch 2/5\n",
      "1407/1407 [==============================] - 7s 5ms/step - loss: 3857.6042 - mse: 3857.6042 - mae: 18.4158 - val_loss: 4087.3948 - val_mse: 4087.3948 - val_mae: 18.9811\n",
      "Epoch 3/5\n",
      "1407/1407 [==============================] - 7s 5ms/step - loss: 3857.6008 - mse: 3857.6008 - mae: 18.4133 - val_loss: 4087.3884 - val_mse: 4087.3884 - val_mae: 18.9757\n",
      "Epoch 4/5\n",
      "1407/1407 [==============================] - 7s 5ms/step - loss: 3857.5918 - mse: 3857.5918 - mae: 18.4124 - val_loss: 4087.3889 - val_mse: 4087.3889 - val_mae: 18.9737\n",
      "Epoch 5/5\n",
      "1407/1407 [==============================] - 7s 5ms/step - loss: 3857.5911 - mse: 3857.5911 - mae: 18.4118 - val_loss: 4087.3892 - val_mse: 4087.3892 - val_mae: 18.9740\n",
      "Epoch 1/5\n",
      "1407/1407 [==============================] - 8s 5ms/step - loss: 2483.2251 - mse: 2483.2251 - mae: 14.8859 - val_loss: 1675.3846 - val_mse: 1675.3846 - val_mae: 12.9417\n",
      "Epoch 2/5\n",
      "1407/1407 [==============================] - 7s 5ms/step - loss: 1528.4822 - mse: 1528.4822 - mae: 12.4006 - val_loss: 1497.7313 - val_mse: 1497.7313 - val_mae: 12.1364\n",
      "Epoch 3/5\n",
      "1407/1407 [==============================] - 7s 5ms/step - loss: 1477.4924 - mse: 1477.4924 - mae: 12.4450 - val_loss: 1512.7006 - val_mse: 1512.7006 - val_mae: 13.5020\n",
      "Epoch 4/5\n",
      "1407/1407 [==============================] - 7s 5ms/step - loss: 1469.2303 - mse: 1469.2303 - mae: 12.5136 - val_loss: 1498.0884 - val_mse: 1498.0884 - val_mae: 11.8981\n",
      "Epoch 5/5\n",
      "1407/1407 [==============================] - 7s 5ms/step - loss: 1467.6198 - mse: 1467.6198 - mae: 12.5441 - val_loss: 1511.8488 - val_mse: 1511.8488 - val_mae: 12.4624\n",
      "Epoch 1/5\n",
      "1407/1407 [==============================] - 7s 5ms/step - loss: 2356.6626 - mse: 2356.6626 - mae: 14.5504 - val_loss: 1582.2646 - val_mse: 1582.2646 - val_mae: 11.9493\n",
      "Epoch 2/5\n",
      "1407/1407 [==============================] - 7s 5ms/step - loss: 1495.2302 - mse: 1495.2302 - mae: 12.4062 - val_loss: 1469.1125 - val_mse: 1469.1125 - val_mae: 12.5293\n",
      "Epoch 3/5\n",
      "1407/1407 [==============================] - 7s 5ms/step - loss: 1472.3257 - mse: 1472.3257 - mae: 12.4940 - val_loss: 1483.6837 - val_mse: 1483.6837 - val_mae: 12.2538\n",
      "Epoch 4/5\n",
      "1407/1407 [==============================] - 7s 5ms/step - loss: 1466.4985 - mse: 1466.4985 - mae: 12.4866 - val_loss: 1454.7200 - val_mse: 1454.7200 - val_mae: 12.5561\n",
      "Epoch 5/5\n",
      "1407/1407 [==============================] - 7s 5ms/step - loss: 1462.6837 - mse: 1462.6837 - mae: 12.4474 - val_loss: 1462.0146 - val_mse: 1462.0146 - val_mae: 12.4574\n",
      "Epoch 1/5\n",
      "1407/1407 [==============================] - 8s 6ms/step - loss: 2342.9656 - mse: 2342.9656 - mae: 14.5088 - val_loss: 1542.0770 - val_mse: 1542.0770 - val_mae: 11.8561\n",
      "Epoch 2/5\n",
      "1407/1407 [==============================] - 7s 5ms/step - loss: 1499.7366 - mse: 1499.7366 - mae: 12.4359 - val_loss: 1464.4691 - val_mse: 1464.4691 - val_mae: 13.6309\n",
      "Epoch 3/5\n",
      "1407/1407 [==============================] - 7s 5ms/step - loss: 1475.7747 - mse: 1475.7747 - mae: 12.7267 - val_loss: 1455.0922 - val_mse: 1455.0922 - val_mae: 12.3836\n",
      "Epoch 4/5\n",
      "1407/1407 [==============================] - 7s 5ms/step - loss: 1474.1261 - mse: 1474.1261 - mae: 12.6693 - val_loss: 1450.6746 - val_mse: 1450.6746 - val_mae: 12.3591\n",
      "Epoch 5/5\n",
      "1407/1407 [==============================] - 7s 5ms/step - loss: 1470.3726 - mse: 1470.3726 - mae: 12.6351 - val_loss: 1442.0077 - val_mse: 1442.0077 - val_mae: 12.3373\n",
      "Epoch 1/5\n",
      "1407/1407 [==============================] - 8s 5ms/step - loss: 2402.6636 - mse: 2402.6636 - mae: 14.6257 - val_loss: 1575.2180 - val_mse: 1575.2180 - val_mae: 12.1831\n",
      "Epoch 2/5\n",
      "1407/1407 [==============================] - 7s 5ms/step - loss: 1512.7003 - mse: 1512.7003 - mae: 12.3980 - val_loss: 1448.2902 - val_mse: 1448.2902 - val_mae: 12.8991\n",
      "Epoch 3/5\n",
      "1407/1407 [==============================] - 7s 5ms/step - loss: 1473.1831 - mse: 1473.1831 - mae: 12.5519 - val_loss: 1429.2269 - val_mse: 1429.2269 - val_mae: 12.3409\n",
      "Epoch 4/5\n",
      "1407/1407 [==============================] - 7s 5ms/step - loss: 1467.6385 - mse: 1467.6385 - mae: 12.5335 - val_loss: 1425.1583 - val_mse: 1425.1583 - val_mae: 12.2567\n",
      "Epoch 5/5\n",
      "1407/1407 [==============================] - 7s 5ms/step - loss: 1465.0576 - mse: 1465.0576 - mae: 12.5243 - val_loss: 1418.8289 - val_mse: 1418.8289 - val_mae: 12.4252\n",
      "Epoch 1/5\n",
      "1407/1407 [==============================] - 8s 5ms/step - loss: 2356.2358 - mse: 2356.2358 - mae: 13.7513 - val_loss: 1574.0400 - val_mse: 1574.0400 - val_mae: 11.4423\n",
      "Epoch 2/5\n",
      "1407/1407 [==============================] - 7s 5ms/step - loss: 1506.1235 - mse: 1506.1235 - mae: 12.1912 - val_loss: 1469.5924 - val_mse: 1469.5924 - val_mae: 13.1643\n",
      "Epoch 3/5\n",
      "1407/1407 [==============================] - 7s 5ms/step - loss: 1473.5538 - mse: 1473.5538 - mae: 12.3689 - val_loss: 1449.0901 - val_mse: 1449.0901 - val_mae: 12.7289\n",
      "Epoch 4/5\n",
      "1407/1407 [==============================] - 7s 5ms/step - loss: 1467.5786 - mse: 1467.5786 - mae: 12.3994 - val_loss: 1443.0704 - val_mse: 1443.0704 - val_mae: 12.5116\n",
      "Epoch 5/5\n",
      "1407/1407 [==============================] - 7s 5ms/step - loss: 1464.2471 - mse: 1464.2471 - mae: 12.4801 - val_loss: 1452.5715 - val_mse: 1452.5715 - val_mae: 12.6875\n",
      "Epoch 1/5\n",
      "1407/1407 [==============================] - 8s 5ms/step - loss: 2481.1997 - mse: 2481.1997 - mae: 14.8677 - val_loss: 1615.9199 - val_mse: 1615.9199 - val_mae: 11.7986\n",
      "Epoch 2/5\n",
      "1407/1407 [==============================] - 7s 5ms/step - loss: 1519.3275 - mse: 1519.3275 - mae: 12.2047 - val_loss: 1472.6858 - val_mse: 1472.6858 - val_mae: 12.7559\n",
      "Epoch 3/5\n",
      "1407/1407 [==============================] - 7s 5ms/step - loss: 1477.8800 - mse: 1477.8800 - mae: 12.4327 - val_loss: 1460.2921 - val_mse: 1460.2921 - val_mae: 12.1357\n",
      "Epoch 4/5\n",
      "1407/1407 [==============================] - 7s 5ms/step - loss: 1470.7506 - mse: 1470.7506 - mae: 12.4545 - val_loss: 1452.0513 - val_mse: 1452.0513 - val_mae: 12.0602\n",
      "Epoch 5/5\n",
      "1407/1407 [==============================] - 7s 5ms/step - loss: 1464.6627 - mse: 1464.6627 - mae: 12.4093 - val_loss: 1456.5198 - val_mse: 1456.5198 - val_mae: 11.9099\n",
      "Epoch 1/5\n",
      "1407/1407 [==============================] - 8s 5ms/step - loss: 2410.4656 - mse: 2410.4656 - mae: 14.6143 - val_loss: 1640.4395 - val_mse: 1640.4395 - val_mae: 12.5827\n"
     ]
    },
    {
     "name": "stdout",
     "output_type": "stream",
     "text": [
      "Epoch 2/5\n",
      "1407/1407 [==============================] - 7s 5ms/step - loss: 1501.3557 - mse: 1501.3557 - mae: 12.2158 - val_loss: 1505.1505 - val_mse: 1505.1505 - val_mae: 12.4035\n",
      "Epoch 3/5\n",
      "1407/1407 [==============================] - 7s 5ms/step - loss: 1469.7589 - mse: 1469.7589 - mae: 12.5356 - val_loss: 1505.6243 - val_mse: 1505.6243 - val_mae: 12.2776\n",
      "Epoch 4/5\n",
      "1407/1407 [==============================] - 7s 5ms/step - loss: 1463.8828 - mse: 1463.8828 - mae: 12.5361 - val_loss: 1494.8151 - val_mse: 1494.8151 - val_mae: 13.1213\n",
      "Epoch 5/5\n",
      "1407/1407 [==============================] - 7s 5ms/step - loss: 1463.2173 - mse: 1463.2173 - mae: 12.5048 - val_loss: 1488.9879 - val_mse: 1488.9879 - val_mae: 12.7571\n"
     ]
    }
   ],
   "source": [
    "result_lstm_reg = cross_validate_lstm(X, Y, look_back, cv=10, reg=True)"
   ]
  },
  {
   "cell_type": "code",
   "execution_count": 117,
   "metadata": {},
   "outputs": [
    {
     "name": "stdout",
     "output_type": "stream",
     "text": [
      "R^2: 0.47 (+/- 0.22)\n",
      "Mean Absolute Error: 12.61 (+/- 0.41)\n"
     ]
    }
   ],
   "source": [
    "result_r2 = remove_min_max(np.array([row[0] for row in result_lstm_reg]))\n",
    "result_mae = remove_min_max(np.array([row[1] for row in result_lstm_reg]))\n",
    "\n",
    "print(\"R^2: %0.2f (+/- %0.2f)\" % (result_r2.mean(), result_r2.std() * 2))\n",
    "print(\"Mean Absolute Error: %0.2f (+/- %0.2f)\" % (result_mae.mean(), result_mae.std() * 2))"
   ]
  },
  {
   "cell_type": "markdown",
   "metadata": {},
   "source": [
    "---"
   ]
  },
  {
   "cell_type": "markdown",
   "metadata": {},
   "source": [
    "## Comparison between algorithms"
   ]
  },
  {
   "cell_type": "markdown",
   "metadata": {},
   "source": [
    "### R^2 Score"
   ]
  },
  {
   "cell_type": "code",
   "execution_count": 149,
   "metadata": {},
   "outputs": [
    {
     "data": {
      "image/png": "[encoded data removed]",
      "text/plain": [
       "<Figure size 576x360 with 1 Axes>"
      ]
     },
     "metadata": {},
     "output_type": "display_data"
    }
   ],
   "source": [
    "result_r2_rf = remove_min_max(result_rf_reg['test_r2'])\n",
    "result_r2_en = remove_min_max(result_en_reg['test_r2'])\n",
    "result_r2_lstm = remove_min_max(np.array([row[0] for row in result_lstm_reg]))\n",
    "\n",
    "results = [result_r2_rf, result_r2_en, result_r2_lstm]\n",
    "\n",
    "plt.style.use('bmh')\n",
    "\n",
    "fig = plt.figure(figsize=(8,5))\n",
    "fig.suptitle(\"Comparação R^2\")\n",
    "ax = fig.add_subplot(111)\n",
    "plt.boxplot(results)\n",
    "ax.set_xticklabels([\"RF\", \"NB\", \"LSTM\"])\n",
    "plt.show()"
   ]
  },
  {
   "cell_type": "markdown",
   "metadata": {},
   "source": [
    "### Mean Absolute Error"
   ]
  },
  {
   "cell_type": "code",
   "execution_count": 151,
   "metadata": {},
   "outputs": [
    {
     "data": {
      "image/png": "[encoded data removed]",
      "text/plain": [
       "<Figure size 576x360 with 1 Axes>"
      ]
     },
     "metadata": {},
     "output_type": "display_data"
    }
   ],
   "source": [
    "result_mae_rf = remove_min_max(-result_rf_reg['test_neg_mean_absolute_error'])\n",
    "result_mae_en = remove_min_max(-result_en_reg['test_neg_mean_absolute_error'])\n",
    "result_mae_lstm = remove_min_max(np.array([row[1] for row in result_lstm_reg]))\n",
    "\n",
    "results = [result_mae_rf, result_mae_en, result_mae_lstm]\n",
    "\n",
    "plt.style.use('bmh')\n",
    "\n",
    "fig = plt.figure(figsize=(8,5))\n",
    "fig.suptitle(\"Comparação Erro Absoluto Médio\")\n",
    "ax = fig.add_subplot(111)\n",
    "plt.boxplot(results)\n",
    "ax.set_xticklabels([\"RF\", \"NB\", \"LSTM\"])\n",
    "plt.show()"
   ]
  },
  {
   "cell_type": "code",
   "execution_count": null,
   "metadata": {},
   "outputs": [],
   "source": []
  }
 ],
 "metadata": {
  "kernelspec": {
   "display_name": "Python 3",
   "language": "python",
   "name": "python3"
  },
  "language_info": {
   "codemirror_mode": {
    "name": "ipython",
    "version": 3
   },
   "file_extension": ".py",
   "mimetype": "text/x-python",
   "name": "python",
   "nbconvert_exporter": "python",
   "pygments_lexer": "ipython3",
   "version": "3.8.5"
  }
 },
 "nbformat": 4,
 "nbformat_minor": 4
}
