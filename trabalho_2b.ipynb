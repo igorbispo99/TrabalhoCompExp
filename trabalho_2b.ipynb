{
 "cells": [
  {
   "cell_type": "code",
   "execution_count": 172,
   "metadata": {},
   "outputs": [],
   "source": [
    "import pandas as pd\n",
    "import seaborn as sbs\n",
    "import matplotlib.pyplot as plt\n",
    "import numpy as np\n",
    "\n",
    "from sklearn.model_selection import train_test_split\n",
    "from sklearn.ensemble import RandomForestClassifier, RandomForestRegressor\n",
    "from sklearn.naive_bayes import GaussianNB \n",
    "from sklearn.linear_model import ElasticNet\n",
    "from sklearn.metrics import classification_report, plot_confusion_matrix, explained_variance_score, r2_score, mean_absolute_error\n",
    "\n",
    "from keras.models import Model, Sequential\n",
    "from keras.layers import LSTM, Dense"
   ]
  },
  {
   "cell_type": "code",
   "execution_count": 173,
   "metadata": {},
   "outputs": [],
   "source": [
    "def generate_np_data(data, col_x, col_y, look_back, predict_forward, N, categorize = False, zero_missing=True):\n",
    "    X = []\n",
    "    Y = []\n",
    "    \n",
    "    unique_location = data.wsnm.unique()\n",
    "    \n",
    "    dataframe_X = data[['wsnm'] + col_x]\n",
    "    dataframe_Y = data[['wsnm'] + col_y]\n",
    "    \n",
    "    n_samples = 0\n",
    "    last = -1\n",
    "    \n",
    "    for loc in unique_location:\n",
    "        data_x = np.array(dataframe_X[dataframe_X.wsnm == loc].drop(columns=['wsnm']))\n",
    "        data_y = np.array(dataframe_Y[dataframe_Y.wsnm == loc].drop(columns=['wsnm']))\n",
    "        \n",
    "        for i in range(len(data_x) - look_back - predict_forward):\n",
    "            x_ = data_x[i:i+look_back]\n",
    "            y_ = data_y[i+look_back - 1 + predict_forward]\n",
    "\n",
    "            if not np.isnan(x_).any() and (not np.isnan(y_).any() or zero_missing):\n",
    "                X.append(x_)\n",
    "                n_samples += 1\n",
    "\n",
    "                if zero_missing:\n",
    "                    if np.isnan(y_).any():\n",
    "                        Y.append(0)\n",
    "                    elif categorize:\n",
    "                        Y.append(1 if y_ > 0 else 0)\n",
    "                    else:\n",
    "                        Y.append(y_)\n",
    "                else:\n",
    "                    if categorize:\n",
    "                        Y.append(1 if y_ > 0 else 0)\n",
    "                    else:\n",
    "                        Y.append(y_)\n",
    "                        \n",
    "            if n_samples % 5000 == 0 and n_samples != last:\n",
    "                print(n_samples)\n",
    "                last = n_samples\n",
    "            if n_samples > N:\n",
    "                 return np.array(X), np.array(Y)\n",
    " \n",
    "    return np.array(X), np.array(Y)"
   ]
  },
  {
   "cell_type": "code",
   "execution_count": 174,
   "metadata": {},
   "outputs": [],
   "source": [
    "def generate_np_data2(data, unique_name, unique_colname, col_x, col_y, look_back, predict_forward, N, categorize = False, zero_missing=True):\n",
    "    X = []\n",
    "    Y = []\n",
    "    \n",
    "    unique_location = data[unique_name].unique()\n",
    "    \n",
    "    dataframe_X = data[[unique_colname] + col_x ] #['wsnm'] + col_x]\n",
    "    dataframe_Y = data[[unique_colname] + col_y ] #['wsnm'] + col_y]\n",
    "    \n",
    "    n_samples = 0\n",
    "    last = -1\n",
    "    \n",
    "    for loc in unique_location:\n",
    "        data_x = np.array(dataframe_X[dataframe_X[unique_colname] == loc].drop(columns=[unique_colname]))\n",
    "        data_y = np.array(dataframe_Y[dataframe_Y[unique_colname] == loc].drop(columns=[unique_colname]))\n",
    "        \n",
    "        for i in range(len(data_x) - look_back - predict_forward):\n",
    "            x_ = data_x[i:i+look_back]\n",
    "            y_ = data_y[i+look_back - 1 + predict_forward]\n",
    "\n",
    "            if not np.isnan(x_).any() and (not np.isnan(y_).any() or zero_missing):\n",
    "                X.append(x_)\n",
    "                n_samples += 1\n",
    "\n",
    "                if zero_missing:\n",
    "                    if np.isnan(y_).any():\n",
    "                        Y.append(0)\n",
    "                    elif categorize:\n",
    "                        Y.append(1 if y_ > 0 else 0)\n",
    "                    else:\n",
    "                        Y.append(y_)\n",
    "                else:\n",
    "                    if categorize:\n",
    "                        Y.append(1 if y_ > 0 else 0)\n",
    "                    else:\n",
    "                        Y.append(y_)\n",
    "                        \n",
    "            if n_samples % 5000 == 0 and n_samples != last:\n",
    "                print(n_samples)\n",
    "                last = n_samples\n",
    "            if n_samples > N:\n",
    "                 return np.array(X), np.array(Y)\n",
    " \n",
    "    return np.array(X), np.array(Y)"
   ]
  },
  {
   "cell_type": "code",
   "execution_count": 175,
   "metadata": {},
   "outputs": [],
   "source": [
    "def get_model_lstm(n_steps, n_features):\n",
    "    model = Sequential()\n",
    "    \n",
    "    model.add(LSTM(128, input_shape=(n_steps, n_features)))\n",
    "\n",
    "    model.add(Dense(1, activation = 'sigmoid'))\n",
    "    \n",
    "    model.compile(optimizer='rmsprop', loss='binary_crossentropy', metrics =['acc'])\n",
    "    \n",
    "    return model"
   ]
  },
  {
   "cell_type": "code",
   "execution_count": 176,
   "metadata": {},
   "outputs": [],
   "source": [
    "def get_model_lstm_regression(n_steps, n_features, n_output):\n",
    "    model = Sequential()\n",
    "    \n",
    "    model.add(LSTM(256, input_shape=(n_steps, n_features)))\n",
    "\n",
    "    model.add(Dense(n_output, activation = 'relu'))\n",
    "    \n",
    "    model.compile(optimizer='rmsprop', loss='mse', metrics =['mse', 'mae'])\n",
    "    \n",
    "    return model"
   ]
  },
  {
   "cell_type": "code",
   "execution_count": 177,
   "metadata": {},
   "outputs": [],
   "source": [
    "def fahrenheit_to_celsius(temp):\n",
    "    return (temp - 32) * 5 / 9"
   ]
  },
  {
   "cell_type": "markdown",
   "metadata": {},
   "source": [
    "---"
   ]
  },
  {
   "cell_type": "markdown",
   "metadata": {},
   "source": [
    "# Loading Data|"
   ]
  },
  {
   "cell_type": "code",
   "execution_count": 178,
   "metadata": {},
   "outputs": [],
   "source": [
    "# https://www.kaggle.com/PROPPG-PPG/hourly-weather-surface-brazil-southeast-region\n",
    "#data = pd.read_csv(\"sudeste.csv\")\n",
    "data = pd.read_csv(\"SBBR2.csv\", usecols=['station', 'valid', 'tmpf', 'dwpf', 'relh', 'drct', 'sknt', 'p01i', 'alti', 'vsby', 'gust'])\n"
   ]
  },
  {
   "cell_type": "code",
   "execution_count": 179,
   "metadata": {},
   "outputs": [
    {
     "data": {
      "text/html": [
       "<div>\n",
       "<style scoped>\n",
       "    .dataframe tbody tr th:only-of-type {\n",
       "        vertical-align: middle;\n",
       "    }\n",
       "\n",
       "    .dataframe tbody tr th {\n",
       "        vertical-align: top;\n",
       "    }\n",
       "\n",
       "    .dataframe thead th {\n",
       "        text-align: right;\n",
       "    }\n",
       "</style>\n",
       "<table border=\"1\" class=\"dataframe\">\n",
       "  <thead>\n",
       "    <tr style=\"text-align: right;\">\n",
       "      <th></th>\n",
       "      <th>tmpf</th>\n",
       "      <th>dwpf</th>\n",
       "      <th>relh</th>\n",
       "      <th>drct</th>\n",
       "      <th>sknt</th>\n",
       "      <th>p01i</th>\n",
       "      <th>alti</th>\n",
       "      <th>vsby</th>\n",
       "      <th>gust</th>\n",
       "    </tr>\n",
       "  </thead>\n",
       "  <tbody>\n",
       "    <tr>\n",
       "      <th>count</th>\n",
       "      <td>9172.000000</td>\n",
       "      <td>9172.000000</td>\n",
       "      <td>9171.000000</td>\n",
       "      <td>8069.000000</td>\n",
       "      <td>9168.000000</td>\n",
       "      <td>9179.0</td>\n",
       "      <td>9173.000000</td>\n",
       "      <td>9177.000000</td>\n",
       "      <td>65.000000</td>\n",
       "    </tr>\n",
       "    <tr>\n",
       "      <th>mean</th>\n",
       "      <td>72.905844</td>\n",
       "      <td>60.686175</td>\n",
       "      <td>69.286312</td>\n",
       "      <td>145.828479</td>\n",
       "      <td>5.362456</td>\n",
       "      <td>0.0</td>\n",
       "      <td>30.086770</td>\n",
       "      <td>6.013219</td>\n",
       "      <td>24.876923</td>\n",
       "    </tr>\n",
       "    <tr>\n",
       "      <th>std</th>\n",
       "      <td>7.770043</td>\n",
       "      <td>7.699213</td>\n",
       "      <td>20.347028</td>\n",
       "      <td>102.008089</td>\n",
       "      <td>3.500729</td>\n",
       "      <td>0.0</td>\n",
       "      <td>0.292426</td>\n",
       "      <td>0.818319</td>\n",
       "      <td>6.175829</td>\n",
       "    </tr>\n",
       "    <tr>\n",
       "      <th>min</th>\n",
       "      <td>42.800000</td>\n",
       "      <td>30.200000</td>\n",
       "      <td>10.450000</td>\n",
       "      <td>0.000000</td>\n",
       "      <td>0.000000</td>\n",
       "      <td>0.0</td>\n",
       "      <td>3.600000</td>\n",
       "      <td>0.030000</td>\n",
       "      <td>14.000000</td>\n",
       "    </tr>\n",
       "    <tr>\n",
       "      <th>25%</th>\n",
       "      <td>68.000000</td>\n",
       "      <td>53.600000</td>\n",
       "      <td>54.300000</td>\n",
       "      <td>70.000000</td>\n",
       "      <td>3.000000</td>\n",
       "      <td>0.0</td>\n",
       "      <td>30.030000</td>\n",
       "      <td>6.210000</td>\n",
       "      <td>21.000000</td>\n",
       "    </tr>\n",
       "    <tr>\n",
       "      <th>50%</th>\n",
       "      <td>71.600000</td>\n",
       "      <td>64.400000</td>\n",
       "      <td>73.440000</td>\n",
       "      <td>100.000000</td>\n",
       "      <td>5.000000</td>\n",
       "      <td>0.0</td>\n",
       "      <td>30.090000</td>\n",
       "      <td>6.210000</td>\n",
       "      <td>24.000000</td>\n",
       "    </tr>\n",
       "    <tr>\n",
       "      <th>75%</th>\n",
       "      <td>78.800000</td>\n",
       "      <td>66.200000</td>\n",
       "      <td>88.180000</td>\n",
       "      <td>250.000000</td>\n",
       "      <td>8.000000</td>\n",
       "      <td>0.0</td>\n",
       "      <td>30.150000</td>\n",
       "      <td>6.210000</td>\n",
       "      <td>28.000000</td>\n",
       "    </tr>\n",
       "    <tr>\n",
       "      <th>max</th>\n",
       "      <td>98.600000</td>\n",
       "      <td>71.600000</td>\n",
       "      <td>100.000000</td>\n",
       "      <td>360.000000</td>\n",
       "      <td>27.000000</td>\n",
       "      <td>0.0</td>\n",
       "      <td>34.230000</td>\n",
       "      <td>6.210000</td>\n",
       "      <td>55.000000</td>\n",
       "    </tr>\n",
       "  </tbody>\n",
       "</table>\n",
       "</div>"
      ],
      "text/plain": [
       "              tmpf         dwpf         relh         drct         sknt  \\\n",
       "count  9172.000000  9172.000000  9171.000000  8069.000000  9168.000000   \n",
       "mean     72.905844    60.686175    69.286312   145.828479     5.362456   \n",
       "std       7.770043     7.699213    20.347028   102.008089     3.500729   \n",
       "min      42.800000    30.200000    10.450000     0.000000     0.000000   \n",
       "25%      68.000000    53.600000    54.300000    70.000000     3.000000   \n",
       "50%      71.600000    64.400000    73.440000   100.000000     5.000000   \n",
       "75%      78.800000    66.200000    88.180000   250.000000     8.000000   \n",
       "max      98.600000    71.600000   100.000000   360.000000    27.000000   \n",
       "\n",
       "         p01i         alti         vsby       gust  \n",
       "count  9179.0  9173.000000  9177.000000  65.000000  \n",
       "mean      0.0    30.086770     6.013219  24.876923  \n",
       "std       0.0     0.292426     0.818319   6.175829  \n",
       "min       0.0     3.600000     0.030000  14.000000  \n",
       "25%       0.0    30.030000     6.210000  21.000000  \n",
       "50%       0.0    30.090000     6.210000  24.000000  \n",
       "75%       0.0    30.150000     6.210000  28.000000  \n",
       "max       0.0    34.230000     6.210000  55.000000  "
      ]
     },
     "execution_count": 179,
     "metadata": {},
     "output_type": "execute_result"
    }
   ],
   "source": [
    "data.describe()"
   ]
  },
  {
   "cell_type": "code",
   "execution_count": 180,
   "metadata": {},
   "outputs": [
    {
     "data": {
      "text/html": [
       "<div>\n",
       "<style scoped>\n",
       "    .dataframe tbody tr th:only-of-type {\n",
       "        vertical-align: middle;\n",
       "    }\n",
       "\n",
       "    .dataframe tbody tr th {\n",
       "        vertical-align: top;\n",
       "    }\n",
       "\n",
       "    .dataframe thead th {\n",
       "        text-align: right;\n",
       "    }\n",
       "</style>\n",
       "<table border=\"1\" class=\"dataframe\">\n",
       "  <thead>\n",
       "    <tr style=\"text-align: right;\">\n",
       "      <th></th>\n",
       "      <th>station</th>\n",
       "      <th>valid</th>\n",
       "      <th>tmpf</th>\n",
       "      <th>dwpf</th>\n",
       "      <th>relh</th>\n",
       "      <th>drct</th>\n",
       "      <th>sknt</th>\n",
       "      <th>p01i</th>\n",
       "      <th>alti</th>\n",
       "      <th>vsby</th>\n",
       "      <th>gust</th>\n",
       "    </tr>\n",
       "  </thead>\n",
       "  <tbody>\n",
       "    <tr>\n",
       "      <th>0</th>\n",
       "      <td>SBBR</td>\n",
       "      <td>2019-11-25 00:00</td>\n",
       "      <td>71.6</td>\n",
       "      <td>68.0</td>\n",
       "      <td>88.43</td>\n",
       "      <td>180.0</td>\n",
       "      <td>5.0</td>\n",
       "      <td>0.0</td>\n",
       "      <td>30.06</td>\n",
       "      <td>6.21</td>\n",
       "      <td>NaN</td>\n",
       "    </tr>\n",
       "    <tr>\n",
       "      <th>1</th>\n",
       "      <td>SBBR</td>\n",
       "      <td>2019-11-25 01:00</td>\n",
       "      <td>69.8</td>\n",
       "      <td>68.0</td>\n",
       "      <td>94.01</td>\n",
       "      <td>170.0</td>\n",
       "      <td>5.0</td>\n",
       "      <td>0.0</td>\n",
       "      <td>30.09</td>\n",
       "      <td>6.21</td>\n",
       "      <td>NaN</td>\n",
       "    </tr>\n",
       "    <tr>\n",
       "      <th>2</th>\n",
       "      <td>SBBR</td>\n",
       "      <td>2019-11-25 02:00</td>\n",
       "      <td>69.8</td>\n",
       "      <td>66.2</td>\n",
       "      <td>88.34</td>\n",
       "      <td>150.0</td>\n",
       "      <td>9.0</td>\n",
       "      <td>0.0</td>\n",
       "      <td>30.09</td>\n",
       "      <td>6.21</td>\n",
       "      <td>NaN</td>\n",
       "    </tr>\n",
       "    <tr>\n",
       "      <th>3</th>\n",
       "      <td>SBBR</td>\n",
       "      <td>2019-11-25 03:00</td>\n",
       "      <td>69.8</td>\n",
       "      <td>66.2</td>\n",
       "      <td>88.34</td>\n",
       "      <td>120.0</td>\n",
       "      <td>4.0</td>\n",
       "      <td>0.0</td>\n",
       "      <td>30.06</td>\n",
       "      <td>6.21</td>\n",
       "      <td>NaN</td>\n",
       "    </tr>\n",
       "    <tr>\n",
       "      <th>4</th>\n",
       "      <td>SBBR</td>\n",
       "      <td>2019-11-25 04:00</td>\n",
       "      <td>68.0</td>\n",
       "      <td>66.2</td>\n",
       "      <td>93.97</td>\n",
       "      <td>110.0</td>\n",
       "      <td>4.0</td>\n",
       "      <td>0.0</td>\n",
       "      <td>30.03</td>\n",
       "      <td>6.21</td>\n",
       "      <td>NaN</td>\n",
       "    </tr>\n",
       "  </tbody>\n",
       "</table>\n",
       "</div>"
      ],
      "text/plain": [
       "  station             valid  tmpf  dwpf   relh   drct  sknt  p01i   alti  \\\n",
       "0    SBBR  2019-11-25 00:00  71.6  68.0  88.43  180.0   5.0   0.0  30.06   \n",
       "1    SBBR  2019-11-25 01:00  69.8  68.0  94.01  170.0   5.0   0.0  30.09   \n",
       "2    SBBR  2019-11-25 02:00  69.8  66.2  88.34  150.0   9.0   0.0  30.09   \n",
       "3    SBBR  2019-11-25 03:00  69.8  66.2  88.34  120.0   4.0   0.0  30.06   \n",
       "4    SBBR  2019-11-25 04:00  68.0  66.2  93.97  110.0   4.0   0.0  30.03   \n",
       "\n",
       "   vsby  gust  \n",
       "0  6.21   NaN  \n",
       "1  6.21   NaN  \n",
       "2  6.21   NaN  \n",
       "3  6.21   NaN  \n",
       "4  6.21   NaN  "
      ]
     },
     "execution_count": 180,
     "metadata": {},
     "output_type": "execute_result"
    }
   ],
   "source": [
    "data.head()"
   ]
  },
  {
   "cell_type": "code",
   "execution_count": 181,
   "metadata": {},
   "outputs": [
    {
     "data": {
      "text/plain": [
       "array(['SBBR'], dtype=object)"
      ]
     },
     "execution_count": 181,
     "metadata": {},
     "output_type": "execute_result"
    }
   ],
   "source": [
    "#data.wsnm.unique()\n",
    "data.station.unique()"
   ]
  },
  {
   "cell_type": "markdown",
   "metadata": {},
   "source": [
    "### Data from INMET\n",
    "\n",
    "- __wsid__: Weather station id\n",
    "- __wsnm__: Name station (usually city location or nickname)\n",
    "- __evlt__: Elevation\n",
    "- __elvt__: Elevation\n",
    "- __lat__: Latitude\n",
    "- __lon__: Longitude\n",
    "- __inme__: Station number (INMET number) for the location\n",
    "- __city__: City\n",
    "- __prov__: State (Province)\n",
    "- __date__: Date of observation\n",
    "- __yr__: The year (2000-2016)\n",
    "- __mo__: The month (0-12)\n",
    "- __da__: The day (0-31)\n",
    "- __hr__: The hour (0-23)\n",
    "- __prcp__: Amount of precipitation in millimetres (last hour)\n",
    "- __stp__: Air pressure for the hour in hPa to tenths (instant)\n",
    "- __smax__: Maximum air pressure for the last hour in hPa to tenths\n",
    "- __smin__: Minimum air pressure for the last hour in hPa to tenths\n",
    "- __gbrd__: Solar radiation KJ/m2\n",
    "- __temp__: Air temperature (instant) in celsius degrees\n",
    "- __dewp__: Dew point temperature (instant) in celsius degrees\n",
    "- __dmax__: Maximum dew point temperature for the last hour in celsius degrees\n",
    "- __dmin__: Minimum dew point temperature for the last hour in celsius degrees\n",
    "- __hmax__: Maximum relative humid temperature for the last hour in %\n",
    "- __hmin__: Minimum relative humid temperature for the last hour in %\n",
    "- __wdsp__: Wind speed in metres per second\n",
    "- __wdct__: Wind direction in radius degrees (0-360)\n",
    "- __gust__: Wind gust in metres per second\n",
    "---"
   ]
  },
  {
   "cell_type": "markdown",
   "metadata": {},
   "source": [
    "### Data from METAR\n",
    "\n",
    "- __station__: three or four character site identifier\n",
    "- __valid__: timestamp of the observation\n",
    "- __tmpf__: Air Temperature in Fahrenheit, typically @ 2 meters\n",
    "- __dwpf__: Dew Point Temperature in Fahrenheit, typically @ 2 meters\n",
    "- __relh__: Relative Humidity in %\n",
    "- __drct__: Wind Direction in degrees from north\n",
    "- __sknt__: Wind Speed in knots \n",
    "- __p01i__: One hour precipitation for the period from the observation time to the time of the previous hourly precipitation reset. This varies slightly by site. Values are in inches. This value may or may not contain frozen precipitation melted by some device on the sensor or estimated by some other means. Unfortunately, we do not know of an authoritative database denoting which station has which sensor.\n",
    "- __alti__: Pressure altimeter in inches\n",
    "- __mslp__: Sea Level Pressure in millibar\n",
    "- __vsby__: Visibility in miles\n",
    "- __gust__: Wind Gust in knots\n",
    "- __skyc1__: Sky Level 1 Coverage\n",
    "- __skyc2__: Sky Level 2 Coverage\n",
    "- __skyc3__: Sky Level 3 Coverage\n",
    "- __skyc4__: Sky Level 4 Coverage\n",
    "- __skyl1__: Sky Level 1 Altitude in feet\n",
    "- __skyl2__: Sky Level 2 Altitude in feet\n",
    "- __skyl3__: Sky Level 3 Altitude in feet\n",
    "- __skyl4__: Sky Level 4 Altitude in feet\n",
    "- __wxcodes__: Present Weather Codes (space seperated)\n",
    "- __feel__: Apparent Temperature (Wind Chill or Heat Index) in Fahrenheit\n",
    "- __ice_accretion_1hr__: Ice Accretion over 1 Hour (inches)\n",
    "- __ice_accretion_3hr__: Ice Accretion over 3 Hours (inches)\n",
    "- __ice_accretion_6hr__: Ice Accretion over 6 Hours (inches)\n",
    "- __peak_wind_gust__: Peak Wind Gust (from PK WND METAR remark) (knots)\n",
    "- __peak_wind_drct__: Peak Wind Gust Direction (from PK WND METAR remark) (deg)\n",
    "- __peak_wind_time__: Peak Wind Gust Time (from PK WND METAR remark)\n",
    "- __metar__: unprocessed reported observation in METAR format \n",
    "---"
   ]
  },
  {
   "cell_type": "markdown",
   "metadata": {},
   "source": [
    "## Correlation Map"
   ]
  },
  {
   "cell_type": "code",
   "execution_count": 182,
   "metadata": {},
   "outputs": [
    {
     "data": {
      "text/plain": [
       "<AxesSubplot:>"
      ]
     },
     "execution_count": 182,
     "metadata": {},
     "output_type": "execute_result"
    },
    {
     "data": {
      "image/png": "[encoded data removed]",
      "text/plain": [
       "<Figure size 1080x936 with 2 Axes>"
      ]
     },
     "metadata": {
      "needs_background": "light"
     },
     "output_type": "display_data"
    }
   ],
   "source": [
    "plt.rcParams[\"figure.figsize\"] = [15,13]\n",
    "sbs.heatmap(data.corr())"
   ]
  },
  {
   "cell_type": "markdown",
   "metadata": {},
   "source": [
    "## Histogram"
   ]
  },
  {
   "cell_type": "code",
   "execution_count": 183,
   "metadata": {},
   "outputs": [
    {
     "data": {
      "image/png": "[encoded data removed]",
      "text/plain": [
       "<Figure size 1368x720 with 9 Axes>"
      ]
     },
     "metadata": {
      "needs_background": "light"
     },
     "output_type": "display_data"
    }
   ],
   "source": [
    "plt.rcParams[\"figure.figsize\"] = [19,10]\n",
    "data.hist()\n",
    "plt.show()"
   ]
  },
  {
   "cell_type": "markdown",
   "metadata": {},
   "source": [
    "---"
   ]
  },
  {
   "cell_type": "markdown",
   "metadata": {},
   "source": [
    "# Predicting visibility range of next 3 hours"
   ]
  },
  {
   "cell_type": "markdown",
   "metadata": {},
   "source": [
    "## From tmpf, dwpf, relh, drct, sknt, p01i, alti of last 12 hours"
   ]
  },
  {
   "cell_type": "code",
   "execution_count": 333,
   "metadata": {},
   "outputs": [],
   "source": [
    "x_col = ['tmpf','dwpf','relh','drct','sknt','p01i','alti']\n",
    "y_col = ['vsby']\n"
   ]
  },
  {
   "cell_type": "code",
   "execution_count": 334,
   "metadata": {},
   "outputs": [
    {
     "name": "stdout",
     "output_type": "stream",
     "text": [
      "0\n",
      "X_train shape (3185, 12, 7)\n",
      "y_train shape (3185,)\n"
     ]
    }
   ],
   "source": [
    "look_back = 12\n",
    "predict_forward = 3\n",
    "N = 100000\n",
    "\n",
    "#X, Y = generate_np_data(data, x_col, y_col, look_back, predict_forward, N, True, False)\n",
    "X, Y = generate_np_data2(data, 'station', 'station', x_col, y_col, look_back, predict_forward, N, True, False)\n",
    "\n",
    "train_size = 0.9\n",
    "\n",
    "X_train, X_test = X[0:int(train_size * len(X))], X[int(train_size * len(X)):]\n",
    "y_train, y_test = Y[0:int(train_size * len(Y))], Y[int(train_size * len(Y)):]\n",
    "\n",
    "print(\"X_train shape\", X_train.shape)\n",
    "print(\"y_train shape\", y_train.shape)"
   ]
  },
  {
   "cell_type": "markdown",
   "metadata": {},
   "source": [
    "## Using Random Forest, N Trees = 150"
   ]
  },
  {
   "cell_type": "code",
   "execution_count": 335,
   "metadata": {},
   "outputs": [],
   "source": [
    "rf = RandomForestRegressor(n_estimators=150, n_jobs=8)"
   ]
  },
  {
   "cell_type": "code",
   "execution_count": 336,
   "metadata": {},
   "outputs": [
    {
     "data": {
      "text/plain": [
       "RandomForestRegressor(n_estimators=150, n_jobs=8)"
      ]
     },
     "execution_count": 336,
     "metadata": {},
     "output_type": "execute_result"
    }
   ],
   "source": [
    "s_x = X_train.shape\n",
    "\n",
    "rf.fit(X_train.reshape(s_x[0], s_x[1] * s_x[2]), y_train)"
   ]
  },
  {
   "cell_type": "markdown",
   "metadata": {},
   "source": [
    "### Results"
   ]
  },
  {
   "cell_type": "code",
   "execution_count": 337,
   "metadata": {},
   "outputs": [],
   "source": [
    "s_x = X_test.shape\n",
    "y_pred = rf.predict(X_test.reshape(s_x[0], s_x[1] * s_x[2]))"
   ]
  },
  {
   "cell_type": "code",
   "execution_count": 338,
   "metadata": {},
   "outputs": [],
   "source": [
    "r2_tree = r2_score(y_test, y_pred, multioutput='raw_values')\n",
    "mae_tree = mean_absolute_error(y_test, y_pred, multioutput='raw_values')"
   ]
  },
  {
   "cell_type": "code",
   "execution_count": 339,
   "metadata": {},
   "outputs": [
    {
     "name": "stdout",
     "output_type": "stream",
     "text": [
      "R^2 Score for each value (1 is the best, 0 is the worse): [1.]\n",
      "Mean Absolute Error for each value (less is better): [0.]\n"
     ]
    }
   ],
   "source": [
    "print(\"R^2 Score for each value (1 is the best, 0 is the worse):\",r2_tree)\n",
    "print(\"Mean Absolute Error for each value (less is better):\", mae_tree)"
   ]
  },
  {
   "cell_type": "markdown",
   "metadata": {},
   "source": [
    "---"
   ]
  },
  {
   "cell_type": "markdown",
   "metadata": {},
   "source": [
    "## Using Elastic Net"
   ]
  },
  {
   "cell_type": "code",
   "execution_count": 340,
   "metadata": {},
   "outputs": [],
   "source": [
    "en = ElasticNet(max_iter=50000)"
   ]
  },
  {
   "cell_type": "code",
   "execution_count": 341,
   "metadata": {},
   "outputs": [
    {
     "name": "stderr",
     "output_type": "stream",
     "text": [
      "d:\\program files\\python38\\lib\\site-packages\\sklearn\\linear_model\\_coordinate_descent.py:529: ConvergenceWarning: Objective did not converge. You might want to increase the number of iterations. Duality gap: 0.0, tolerance: 0.0\n",
      "  model = cd_fast.enet_coordinate_descent(\n"
     ]
    },
    {
     "data": {
      "text/plain": [
       "ElasticNet(max_iter=50000)"
      ]
     },
     "execution_count": 341,
     "metadata": {},
     "output_type": "execute_result"
    }
   ],
   "source": [
    "s_x = X_train.shape\n",
    "\n",
    "en.fit(X_train.reshape(s_x[0], s_x[1] * s_x[2]), y_train)"
   ]
  },
  {
   "cell_type": "markdown",
   "metadata": {},
   "source": [
    "### Results"
   ]
  },
  {
   "cell_type": "code",
   "execution_count": 342,
   "metadata": {},
   "outputs": [],
   "source": [
    "s_x = X_test.shape\n",
    "y_pred = en.predict(X_test.reshape(s_x[0], s_x[1] * s_x[2]))"
   ]
  },
  {
   "cell_type": "code",
   "execution_count": 343,
   "metadata": {},
   "outputs": [],
   "source": [
    "r2_en = r2_score(y_test, y_pred, multioutput='raw_values')\n",
    "mae_en = mean_absolute_error(y_test, y_pred, multioutput='raw_values')"
   ]
  },
  {
   "cell_type": "code",
   "execution_count": 344,
   "metadata": {},
   "outputs": [
    {
     "name": "stdout",
     "output_type": "stream",
     "text": [
      "R^2 Score for each value (1 is the best, 0 is the worse): [1.]\n",
      "Mean Absolute Error for each value (less is better): [0.]\n"
     ]
    }
   ],
   "source": [
    "print(\"R^2 Score for each value (1 is the best, 0 is the worse):\",r2_en)\n",
    "print(\"Mean Absolute Error for each value (less is better):\", mae_en)"
   ]
  },
  {
   "cell_type": "markdown",
   "metadata": {},
   "source": [
    "---"
   ]
  },
  {
   "cell_type": "markdown",
   "metadata": {},
   "source": [
    "## Using LSTM"
   ]
  },
  {
   "cell_type": "code",
   "execution_count": 345,
   "metadata": {},
   "outputs": [],
   "source": [
    "model = get_model_lstm_regression(look_back, X_train.shape[2], len(y_train.shape))"
   ]
  },
  {
   "cell_type": "code",
   "execution_count": 346,
   "metadata": {
    "scrolled": true
   },
   "outputs": [
    {
     "name": "stdout",
     "output_type": "stream",
     "text": [
      "Epoch 1/10\n",
      "50/50 [==============================] - 2s 45ms/step - loss: 0.0768 - mse: 0.0768 - mae: 0.1827 - val_loss: 0.0326 - val_mse: 0.0326 - val_mae: 0.1605\n",
      "Epoch 2/10\n",
      "50/50 [==============================] - 1s 23ms/step - loss: 0.0137 - mse: 0.0137 - mae: 0.0930 - val_loss: 0.0286 - val_mse: 0.0286 - val_mae: 0.1474\n",
      "Epoch 3/10\n",
      "50/50 [==============================] - 1s 27ms/step - loss: 0.0074 - mse: 0.0074 - mae: 0.0652 - val_loss: 0.0026 - val_mse: 0.0026 - val_mae: 0.0376\n",
      "Epoch 4/10\n",
      "50/50 [==============================] - 1s 24ms/step - loss: 0.0047 - mse: 0.0047 - mae: 0.0545 - val_loss: 0.0039 - val_mse: 0.0039 - val_mae: 0.0556\n",
      "Epoch 5/10\n",
      "50/50 [==============================] - 1s 24ms/step - loss: 0.0043 - mse: 0.0043 - mae: 0.0517 - val_loss: 0.0035 - val_mse: 0.0035 - val_mae: 0.0468\n",
      "Epoch 6/10\n",
      "50/50 [==============================] - 1s 23ms/step - loss: 0.0035 - mse: 0.0035 - mae: 0.0446 - val_loss: 6.5438e-04 - val_mse: 6.5438e-04 - val_mae: 0.0167\n",
      "Epoch 7/10\n",
      "50/50 [==============================] - 1s 23ms/step - loss: 0.0029 - mse: 0.0029 - mae: 0.0389 - val_loss: 0.0036 - val_mse: 0.0036 - val_mae: 0.0529\n",
      "Epoch 8/10\n",
      "50/50 [==============================] - 1s 25ms/step - loss: 0.0024 - mse: 0.0024 - mae: 0.0370 - val_loss: 0.0036 - val_mse: 0.0036 - val_mae: 0.0528\n",
      "Epoch 9/10\n",
      "50/50 [==============================] - 1s 23ms/step - loss: 0.0021 - mse: 0.0021 - mae: 0.0321 - val_loss: 0.0025 - val_mse: 0.0025 - val_mae: 0.0435\n",
      "Epoch 10/10\n",
      "50/50 [==============================] - 1s 26ms/step - loss: 0.0020 - mse: 0.0020 - mae: 0.0354 - val_loss: 3.3582e-04 - val_mse: 3.3582e-04 - val_mae: 0.0122\n"
     ]
    },
    {
     "data": {
      "text/plain": [
       "<tensorflow.python.keras.callbacks.History at 0x1c07adeaa90>"
      ]
     },
     "execution_count": 346,
     "metadata": {},
     "output_type": "execute_result"
    }
   ],
   "source": [
    "model.fit(X_train, y_train, validation_data = (X_test, y_test), batch_size=64, epochs=10)"
   ]
  },
  {
   "cell_type": "markdown",
   "metadata": {},
   "source": [
    "### Results"
   ]
  },
  {
   "cell_type": "code",
   "execution_count": 347,
   "metadata": {},
   "outputs": [],
   "source": [
    "s_x = X_test.shape\n",
    "y_pred = model.predict(X_test)"
   ]
  },
  {
   "cell_type": "code",
   "execution_count": 348,
   "metadata": {},
   "outputs": [],
   "source": [
    "r2_lstm = r2_score(y_test, y_pred, multioutput='raw_values')\n",
    "mae_lstm = mean_absolute_error(y_test, y_pred, multioutput='raw_values')"
   ]
  },
  {
   "cell_type": "code",
   "execution_count": 349,
   "metadata": {},
   "outputs": [
    {
     "name": "stdout",
     "output_type": "stream",
     "text": [
      "R^2 Score for each value (1 is the best, 0 is the worse): [0.]\n",
      "Mean Absolute Error for each value (less is better): [0.01218089]\n"
     ]
    }
   ],
   "source": [
    "print(\"R^2 Score for each value (1 is the best, 0 is the worse):\",r2_lstm)\n",
    "print(\"Mean Absolute Error for each value (less is better):\", mae_lstm)"
   ]
  },
  {
   "cell_type": "markdown",
   "metadata": {},
   "source": [
    "---"
   ]
  },
  {
   "cell_type": "code",
   "execution_count": 350,
   "metadata": {},
   "outputs": [
    {
     "name": "stdout",
     "output_type": "stream",
     "text": [
      "Mean R^2 Score Random Forest: 1.0\n",
      "Mean R^2 Score Elastic Net: 1.0\n",
      "Mean R^2 Score LSTM: 0.0\n"
     ]
    }
   ],
   "source": [
    "print(\"Mean R^2 Score Random Forest:\", np.round(np.mean(r2_tree), 3))\n",
    "print(\"Mean R^2 Score Elastic Net:\", np.round(np.mean(r2_en), 3))\n",
    "print(\"Mean R^2 Score LSTM:\", np.round(np.mean(r2_lstm), 3))"
   ]
  },
  {
   "cell_type": "code",
   "execution_count": 351,
   "metadata": {},
   "outputs": [
    {
     "name": "stdout",
     "output_type": "stream",
     "text": [
      "Mean MAE Random Forest: 0.0\n",
      "Mean MAE Elastic Net: 0.0\n",
      "Mean MAE LSTM: 0.012\n"
     ]
    }
   ],
   "source": [
    "print(\"Mean MAE Random Forest:\", np.round(np.mean(mae_tree), 3))\n",
    "print(\"Mean MAE Elastic Net:\", np.round(np.mean(mae_en), 3))\n",
    "print(\"Mean MAE LSTM:\", np.round(np.mean(mae_lstm), 3))"
   ]
  }
 ],
 "metadata": {
  "kernelspec": {
   "display_name": "Python 3",
   "language": "python",
   "name": "python3"
  },
  "language_info": {
   "codemirror_mode": {
    "name": "ipython",
    "version": 3
   },
   "file_extension": ".py",
   "mimetype": "text/x-python",
   "name": "python",
   "nbconvert_exporter": "python",
   "pygments_lexer": "ipython3",
   "version": "3.8.6"
  }
 },
 "nbformat": 4,
 "nbformat_minor": 4
}
